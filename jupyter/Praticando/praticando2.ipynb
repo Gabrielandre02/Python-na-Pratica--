{
 "cells": [
  {
   "cell_type": "code",
   "execution_count": 2,
   "metadata": {},
   "outputs": [
    {
     "name": "stdout",
     "output_type": "stream",
     "text": [
      "Batemos a meta de vendas de Iphone, vendemos 65300 unidade\n"
     ]
    }
   ],
   "source": [
    "meta = 50000\n",
    "qtd_vendida = 65300\n",
    "if qtd_vendida > meta:\n",
    "    print(f\"Batemos a meta de vendas de Iphone, vendemos {qtd_vendida} unidade\")"
   ]
  },
  {
   "cell_type": "code",
   "execution_count": 3,
   "metadata": {},
   "outputs": [
    {
     "name": "stdout",
     "output_type": "stream",
     "text": [
      "Infelizmente nao batemos a meta, vendemos 5300. A meta era de 50000 unidades\n"
     ]
    }
   ],
   "source": [
    "meta = 50000\n",
    "qtd_vendida = 5300\n",
    "if qtd_vendida > meta:\n",
    "    print(f\"Batemos a meta de vendas de Iphone, vendemos {qtd_vendida} unidade\")\n",
    "else:\n",
    "    print(f\"Infelizmente nao batemos a meta, vendemos {qtd_vendida}. A meta era de {meta} unidades\")"
   ]
  },
  {
   "cell_type": "code",
   "execution_count": 5,
   "metadata": {},
   "outputs": [
    {
     "name": "stdout",
     "output_type": "stream",
     "text": [
      "A taxa foi de 0.04\n"
     ]
    }
   ],
   "source": [
    "meta = 0.05\n",
    "taxa = 0\n",
    "redimento = 0.25\n",
    "\n",
    "if redimento > meta:\n",
    "    if redimento > 0.20:\n",
    "        taxa = 0.04\n",
    "        print(f\"A taxa foi de {taxa}\")\n",
    "    else:\n",
    "        taxa = 0.02\n",
    "        print(f\"A taxa foi de {taxa}\")\n",
    "else:\n",
    "    taxa= 0\n",
    "    print(f\"A taxa foi de {taxa}\")"
   ]
  },
  {
   "cell_type": "code",
   "execution_count": 12,
   "metadata": {},
   "outputs": [
    {
     "name": "stdout",
     "output_type": "stream",
     "text": [
      "Ganhou 3850.0000000000005 de bônus\n"
     ]
    }
   ],
   "source": [
    "meta = 20000\n",
    "vendas = 55000\n",
    "\n",
    "if vendas < meta:\n",
    "    print(\"Não ganhou o bonus\")\n",
    "elif vendas > (meta * 2):\n",
    "    bonus = 0.07 * vendas\n",
    "    print(f\"Ganhou {bonus} de bônus\")\n",
    "else:\n",
    "    bonus = 0.03 * vendas\n",
    "    print(f'Ganhou {bonus} de bonus')"
   ]
  },
  {
   "cell_type": "code",
   "execution_count": 13,
   "metadata": {},
   "outputs": [
    {
     "name": "stdout",
     "output_type": "stream",
     "text": [
      "Os faturamentos sao diferentes\n"
     ]
    }
   ],
   "source": [
    "fat_loja1 = 2000\n",
    "fat_loja2 = 1500\n",
    "\n",
    "if fat_loja1 == fat_loja2:\n",
    "    print(\"Os faturamento sao iguais\")\n",
    "else:\n",
    "    print(\"Os faturamentos sao diferentes\")"
   ]
  },
  {
   "cell_type": "code",
   "execution_count": 15,
   "metadata": {},
   "outputs": [
    {
     "name": "stdout",
     "output_type": "stream",
     "text": [
      "Email errado\n"
     ]
    }
   ],
   "source": [
    "email = 'gabrielandre@gmail.com'\n",
    "\n",
    "if email == 'gabriel@gmail.com':\n",
    "    print(\"Email correto\")\n",
    "else:\n",
    "    print(\"Email errado\")"
   ]
  },
  {
   "cell_type": "code",
   "execution_count": 16,
   "metadata": {},
   "outputs": [],
   "source": [
    "email_usuario = input('Insira seu email:')\n",
    "\n",
    "if not '@' in email_usuario:\n",
    "    print('Email Invalido')\n",
    "else:\n",
    "    pass"
   ]
  }
 ],
 "metadata": {
  "interpreter": {
   "hash": "a02c5d3f266f8ea9d2e9358e355e19b4a758d9a9696d77ec6fd0919dea87b478"
  },
  "kernelspec": {
   "display_name": "Python 3.9.7 ('base')",
   "language": "python",
   "name": "python3"
  },
  "language_info": {
   "codemirror_mode": {
    "name": "ipython",
    "version": 3
   },
   "file_extension": ".py",
   "mimetype": "text/x-python",
   "name": "python",
   "nbconvert_exporter": "python",
   "pygments_lexer": "ipython3",
   "version": "3.9.7"
  },
  "orig_nbformat": 4
 },
 "nbformat": 4,
 "nbformat_minor": 2
}
