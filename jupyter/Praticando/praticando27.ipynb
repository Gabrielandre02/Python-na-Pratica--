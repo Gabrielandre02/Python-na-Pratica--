{
 "cells": [
  {
   "cell_type": "markdown",
   "metadata": {},
   "source": [
    "# Mais de 1 argumento e formas de passar argumento para uma função\n",
    "\n",
    "### Estrutura:\n",
    "\n",
    "- 2 formas de passar o argumento:\n",
    "    1. Em ordem (positional argument)\n",
    "    2. Com o nome do argumento (keyword argument)"
   ]
  },
  {
   "cell_type": "markdown",
   "metadata": {},
   "source": [
    "- Vamos mudar a função que fizemos na aula passada para conseguir categorizar qualquer tipo de bebida de acordo com o \"rótulo\" passado para a nsosa function. Basicamente nossa function agora tem que verificar se o produto é da categoria passada ou não."
   ]
  },
  {
   "cell_type": "code",
   "execution_count": 1,
   "metadata": {},
   "outputs": [],
   "source": [
    "produtos = ['beb46275','TFA23962','TFA64715','TFA69555','TFA56743','BSA45510','TFA44968','CAR75448','CAR23596','CAR13490','BEB21365','BEB31623','BSA62419','BEB73344','TFA20079','BEB80694','BSA11769','BEB19495','TFA14792','TFA78043','BSA33484','BEB97471','BEB62362','TFA27311','TFA17715','BEB85146','BEB48898','BEB79496','CAR38417','TFA19947','TFA58799','CAR94811','BSA59251','BEB15385','BEB24213','BEB56262','BSA96915','CAR53454','BEB75073']\n"
   ]
  },
  {
   "cell_type": "code",
   "execution_count": null,
   "metadata": {},
   "outputs": [],
   "source": [
    "def alc(bebida):\n",
    "    bebida = bebida.upper()\n",
    "    if 'BEB' in bebida:\n",
    "        print(f\"Enviar o {produto} para o setor de bebidas alcoolicas\")\n",
    "    elif 'BSA' in bebida:\n",
    "        print(f\"Enviar o {produto} para o setor de bebidas nao alcoolicas\")\n",
    "    else:\n",
    "        print(f\"Verificar {produto}, em qual setor que deve ser enviado\")\n",
    "\n",
    "for produto in produtos:\n",
    "    alc(produto)"
   ]
  },
  {
   "cell_type": "code",
   "execution_count": 5,
   "metadata": {},
   "outputs": [
    {
     "name": "stdout",
     "output_type": "stream",
     "text": [
      "Enviar o beb46275 para o setor de bebidas alcoolicas\n",
      "Enviar o BSA45510 para o setor de bebidas nao alcoolicas\n",
      "Enviar o BEB21365 para o setor de bebidas alcoolicas\n",
      "Enviar o BEB31623 para o setor de bebidas alcoolicas\n",
      "Enviar o BSA62419 para o setor de bebidas nao alcoolicas\n",
      "Enviar o BEB73344 para o setor de bebidas alcoolicas\n",
      "Enviar o BEB80694 para o setor de bebidas alcoolicas\n",
      "Enviar o BSA11769 para o setor de bebidas nao alcoolicas\n",
      "Enviar o BEB19495 para o setor de bebidas alcoolicas\n",
      "Enviar o BSA33484 para o setor de bebidas nao alcoolicas\n",
      "Enviar o BEB97471 para o setor de bebidas alcoolicas\n",
      "Enviar o BEB62362 para o setor de bebidas alcoolicas\n",
      "Enviar o BEB85146 para o setor de bebidas alcoolicas\n",
      "Enviar o BEB48898 para o setor de bebidas alcoolicas\n",
      "Enviar o BEB79496 para o setor de bebidas alcoolicas\n",
      "Enviar o BSA59251 para o setor de bebidas nao alcoolicas\n",
      "Enviar o BEB15385 para o setor de bebidas alcoolicas\n",
      "Enviar o BEB24213 para o setor de bebidas alcoolicas\n",
      "Enviar o BEB56262 para o setor de bebidas alcoolicas\n",
      "Enviar o BSA96915 para o setor de bebidas nao alcoolicas\n",
      "Enviar o BEB75073 para o setor de bebidas alcoolicas\n"
     ]
    }
   ],
   "source": [
    "def categoria(bebida:str, cod_bebida:str):\n",
    "    bebida = bebida.upper()\n",
    "    if cod_bebida in bebida:\n",
    "        return True\n",
    "    else:\n",
    "       return False\n",
    "\n",
    "for produto in produtos:\n",
    "    if categoria(produto, 'BEB'):\n",
    "        print(f\"Enviar o {produto} para o setor de bebidas alcoolicas\")\n",
    "    elif categoria(produto, 'BSA'):\n",
    "        print(f\"Enviar o {produto} para o setor de bebidas nao alcoolicas\")"
   ]
  },
  {
   "cell_type": "markdown",
   "metadata": {},
   "source": [
    "## Obs Importante: Sua função deve estar SEMPRE antes de ser usada.\n",
    "\n",
    "- Normalmente, nos nossos códigos, fazemos as definições de todas as funções antes e depois construimos o resto do código.\n",
    "- É comum dar '2 enters' após a definição da função para deixar o código mais organizado\n"
   ]
  },
  {
   "cell_type": "code",
   "execution_count": 7,
   "metadata": {},
   "outputs": [
    {
     "name": "stdout",
     "output_type": "stream",
     "text": [
      "Enviar o beb46275 para o setor de bebidas alcoolicas\n",
      "Enviar o BSA45510 para o setor de bebidas nao alcoolicas\n",
      "Enviar o BEB21365 para o setor de bebidas alcoolicas\n",
      "Enviar o BEB31623 para o setor de bebidas alcoolicas\n",
      "Enviar o BSA62419 para o setor de bebidas nao alcoolicas\n",
      "Enviar o BEB73344 para o setor de bebidas alcoolicas\n",
      "Enviar o BEB80694 para o setor de bebidas alcoolicas\n",
      "Enviar o BSA11769 para o setor de bebidas nao alcoolicas\n",
      "Enviar o BEB19495 para o setor de bebidas alcoolicas\n",
      "Enviar o BSA33484 para o setor de bebidas nao alcoolicas\n",
      "Enviar o BEB97471 para o setor de bebidas alcoolicas\n",
      "Enviar o BEB62362 para o setor de bebidas alcoolicas\n",
      "Enviar o BEB85146 para o setor de bebidas alcoolicas\n",
      "Enviar o BEB48898 para o setor de bebidas alcoolicas\n",
      "Enviar o BEB79496 para o setor de bebidas alcoolicas\n",
      "Enviar o BSA59251 para o setor de bebidas nao alcoolicas\n",
      "Enviar o BEB15385 para o setor de bebidas alcoolicas\n",
      "Enviar o BEB24213 para o setor de bebidas alcoolicas\n",
      "Enviar o BEB56262 para o setor de bebidas alcoolicas\n",
      "Enviar o BSA96915 para o setor de bebidas nao alcoolicas\n",
      "Enviar o BEB75073 para o setor de bebidas alcoolicas\n"
     ]
    }
   ],
   "source": [
    "#Duas maneira de fazer\n",
    "def categoria(bebida:str, cod_bebida:str):\n",
    "    bebida = bebida.upper()\n",
    "    if cod_bebida in bebida:\n",
    "        return True\n",
    "    else:\n",
    "       return False\n",
    "\n",
    "for produto in produtos:\n",
    "    if categoria(cod_bebida='BEB', bebida=produto):\n",
    "        print(f\"Enviar o {produto} para o setor de bebidas alcoolicas\")\n",
    "    elif categoria(cod_bebida='BSA', bebida=produto):\n",
    "        print(f\"Enviar o {produto} para o setor de bebidas nao alcoolicas\")"
   ]
  },
  {
   "cell_type": "code",
   "execution_count": 11,
   "metadata": {},
   "outputs": [
    {
     "name": "stdout",
     "output_type": "stream",
     "text": [
      "Quantide de produto totais 39\n",
      "Temos que ficar atento ao nosso estoque!\n",
      "Obrigado!\n"
     ]
    }
   ],
   "source": [
    "produto = len(produtos)\n",
    "\n",
    "print(f\"Quantide de produto totais {produto}\", 'Temos que ficar atento ao nosso estoque!', 'Obrigado!', sep='\\n')"
   ]
  }
 ],
 "metadata": {
  "interpreter": {
   "hash": "ad2bdc8ecc057115af97d19610ffacc2b4e99fae6737bb82f5d7fb13d2f2c186"
  },
  "kernelspec": {
   "display_name": "Python 3.9.7",
   "language": "python",
   "name": "python3"
  },
  "language_info": {
   "codemirror_mode": {
    "name": "ipython",
    "version": 3
   },
   "file_extension": ".py",
   "mimetype": "text/x-python",
   "name": "python",
   "nbconvert_exporter": "python",
   "pygments_lexer": "ipython3",
   "version": "3.9.7"
  }
 },
 "nbformat": 4,
 "nbformat_minor": 4
}
