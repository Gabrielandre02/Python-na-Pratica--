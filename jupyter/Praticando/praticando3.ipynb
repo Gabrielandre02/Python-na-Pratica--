{
 "cells": [
  {
   "cell_type": "code",
   "execution_count": 6,
   "metadata": {},
   "outputs": [
    {
     "name": "stdout",
     "output_type": "stream",
     "text": [
      "Bonus do funcionario foi de 1500.0\n"
     ]
    }
   ],
   "source": [
    "meta_fun = 10000\n",
    "meta_loja = 250000\n",
    "venda_fun = 50000\n",
    "vendas_loja = 280000\n",
    "\n",
    "if venda_fun > meta_fun and vendas_loja > meta_loja:\n",
    "    bonus = 0.03 * venda_fun\n",
    "    print(f\"Bonus do funcionario foi de {bonus}\")\n",
    "else:\n",
    "    print(\"Funcionario nao ganhou o bonus\")"
   ]
  },
  {
   "cell_type": "code",
   "execution_count": 8,
   "metadata": {},
   "outputs": [
    {
     "name": "stdout",
     "output_type": "stream",
     "text": [
      "Bonus do funcionario foi de 1500.0\n"
     ]
    }
   ],
   "source": [
    "nota_fun = 5\n",
    "meta_nota = 9\n",
    "\n",
    "if nota_fun >= meta_nota or (venda_fun > meta_fun and vendas_loja > meta_loja):\n",
    "    bonus = 0.03 * venda_fun\n",
    "    print(f\"Bonus do funcionario foi de {bonus}\")\n",
    "else:\n",
    "    print(\"Funcionario nao ganhou o bonus\")"
   ]
  },
  {
   "cell_type": "code",
   "execution_count": 13,
   "metadata": {},
   "outputs": [
    {
     "name": "stdout",
     "output_type": "stream",
     "text": [
      "Preencha o faturamento e o lucro corretamente\n"
     ]
    }
   ],
   "source": [
    "faturamento = input('Qual foi o faturamento da loja nesse mês?')\n",
    "custo = input('Qual foi o busco da loja nesse mês?')\n",
    "\n",
    "if faturamento and custo:\n",
    "    lucro = int(faturamento) - int(custo)\n",
    "    print(f\"O lucro da loja foi de {lucro} reais\")\n",
    "else:\n",
    "    print('Preencha o faturamento e o lucro corretamente')"
   ]
  },
  {
   "cell_type": "code",
   "execution_count": null,
   "metadata": {},
   "outputs": [],
   "source": []
  }
 ],
 "metadata": {
  "interpreter": {
   "hash": "ad2bdc8ecc057115af97d19610ffacc2b4e99fae6737bb82f5d7fb13d2f2c186"
  },
  "kernelspec": {
   "display_name": "Python 3.9.7",
   "language": "python",
   "name": "python3"
  },
  "language_info": {
   "codemirror_mode": {
    "name": "ipython",
    "version": 3
   },
   "file_extension": ".py",
   "mimetype": "text/x-python",
   "name": "python",
   "nbconvert_exporter": "python",
   "pygments_lexer": "ipython3",
   "version": "3.9.7"
  },
  "orig_nbformat": 4
 },
 "nbformat": 4,
 "nbformat_minor": 2
}
