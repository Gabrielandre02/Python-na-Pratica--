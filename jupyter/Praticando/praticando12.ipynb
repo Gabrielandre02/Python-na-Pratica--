{
 "cells": [
  {
   "cell_type": "code",
   "execution_count": 12,
   "metadata": {},
   "outputs": [],
   "source": [
    "vendedores = ['Gabriel', 'Andre', 'Morais']\n",
    "produto = ['celular', 'fone']\n",
    "vendas = [\n",
    "    [100, 200],\n",
    "    [300, 500],\n",
    "    [13, 540],\n",
    "]"
   ]
  },
  {
   "cell_type": "code",
   "execution_count": 5,
   "metadata": {},
   "outputs": [
    {
     "name": "stdout",
     "output_type": "stream",
     "text": [
      "100\n"
     ]
    }
   ],
   "source": [
    "#Quantos celulares o gabriel vendeu ?\n",
    "vendas_ipad_gabriel = vendas[0][0]\n",
    "print(vendas_ipad_gabriel)"
   ]
  },
  {
   "cell_type": "code",
   "execution_count": 7,
   "metadata": {},
   "outputs": [
    {
     "name": "stdout",
     "output_type": "stream",
     "text": [
      "500\n"
     ]
    }
   ],
   "source": [
    "#quantos fone o andre vendeu?\n",
    "vendas_fone_andre = vendas[1][1]\n",
    "print(vendas_fone_andre)"
   ]
  },
  {
   "cell_type": "code",
   "execution_count": 9,
   "metadata": {},
   "outputs": [
    {
     "name": "stdout",
     "output_type": "stream",
     "text": [
      "413\n"
     ]
    }
   ],
   "source": [
    "#total de vendas celular\n",
    "vendas_celulares = vendas[0][0] + vendas[1][0] + vendas[2][0]\n",
    "print(vendas_celulares)"
   ]
  },
  {
   "cell_type": "code",
   "execution_count": 13,
   "metadata": {},
   "outputs": [
    {
     "name": "stdout",
     "output_type": "stream",
     "text": [
      "[[50, 200], [300, 500], [13, 540]]\n"
     ]
    }
   ],
   "source": [
    "vendas[0][0] = 50\n",
    "print(vendas)"
   ]
  },
  {
   "cell_type": "code",
   "execution_count": 15,
   "metadata": {},
   "outputs": [
    {
     "name": "stdout",
     "output_type": "stream",
     "text": [
      "[[50, 200, 50, 50], [300, 500, 100], [13, 540, 90]]\n"
     ]
    }
   ],
   "source": [
    "vendas_teclado = [50, 100, 90]\n",
    "\n",
    "vendas[0].append(vendas_teclado[0])\n",
    "vendas[1].append(vendas_teclado[1])\n",
    "vendas[2].append(vendas_teclado[2])\n",
    "\n",
    "print(vendas)"
   ]
  }
 ],
 "metadata": {
  "interpreter": {
   "hash": "ad2bdc8ecc057115af97d19610ffacc2b4e99fae6737bb82f5d7fb13d2f2c186"
  },
  "kernelspec": {
   "display_name": "Python 3.9.7",
   "language": "python",
   "name": "python3"
  },
  "language_info": {
   "codemirror_mode": {
    "name": "ipython",
    "version": 3
   },
   "file_extension": ".py",
   "mimetype": "text/x-python",
   "name": "python",
   "nbconvert_exporter": "python",
   "pygments_lexer": "ipython3",
   "version": "3.9.7"
  },
  "orig_nbformat": 4
 },
 "nbformat": 4,
 "nbformat_minor": 2
}
