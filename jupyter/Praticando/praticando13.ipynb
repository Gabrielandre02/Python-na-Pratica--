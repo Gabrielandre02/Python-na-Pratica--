{
 "cells": [
  {
   "cell_type": "code",
   "execution_count": 1,
   "metadata": {},
   "outputs": [
    {
     "name": "stdout",
     "output_type": "stream",
     "text": [
      "0\n",
      "1\n",
      "2\n",
      "3\n",
      "4\n"
     ]
    }
   ],
   "source": [
    "for i in range(5):\n",
    "    print(i)"
   ]
  },
  {
   "cell_type": "code",
   "execution_count": 2,
   "metadata": {},
   "outputs": [
    {
     "name": "stdout",
     "output_type": "stream",
     "text": [
      "15000 unidades produzidas de coca\n",
      "12000 unidades produzidas de pepsi\n",
      "13000 unidades produzidas de guarana\n",
      "5000 unidades produzidas de sprite\n",
      "250 unidades produzidas de fanta\n"
     ]
    }
   ],
   "source": [
    "produtos = ['coca', 'pepsi', 'guarana', 'sprite', 'fanta']\n",
    "producao = [15000, 12000, 13000, 5000, 250]\n",
    "\n",
    "tamanho = len(produtos)\n",
    "for i in range(tamanho):\n",
    "    print('{} unidades produzidas de {}'.format(producao[i], produtos[i]))"
   ]
  },
  {
   "cell_type": "code",
   "execution_count": 5,
   "metadata": {},
   "outputs": [
    {
     "name": "stdout",
     "output_type": "stream",
     "text": [
      "O produto é coca\n",
      "O produto é pepsi\n",
      "O produto é guarana\n",
      "O produto é sprite\n",
      "O produto é fanta\n"
     ]
    }
   ],
   "source": [
    "produtos = ['coca', 'pepsi', 'guarana', 'sprite', 'fanta']\n",
    "texto = 'gabriel@gmail.com'\n",
    "\n",
    "for produto in produtos:\n",
    "    print('O produto é {}'.format(produto))\n",
    "    "
   ]
  },
  {
   "cell_type": "code",
   "execution_count": 32,
   "metadata": {},
   "outputs": [
    {
     "name": "stdout",
     "output_type": "stream",
     "text": [
      "Meu email g\n",
      "Meu email a\n",
      "Meu email b\n",
      "Meu email r\n",
      "Meu email i\n",
      "Meu email e\n",
      "Meu email l\n",
      "Meu email @\n",
      "Meu email g\n",
      "Meu email m\n",
      "Meu email a\n",
      "Meu email i\n",
      "Meu email l\n",
      "Meu email .\n",
      "Meu email c\n",
      "Meu email o\n",
      "Meu email m\n"
     ]
    }
   ],
   "source": [
    "for ch in texto:\n",
    "    print(f\"Meu email {ch}\")"
   ]
  },
  {
   "cell_type": "code",
   "execution_count": 27,
   "metadata": {},
   "outputs": [
    {
     "name": "stdout",
     "output_type": "stream",
     "text": [
      "8 funcionarios bateram a meta do mes !\n",
      "Isso equivale a 61.5% do total de funcionarios\n",
      "##################################################\n",
      "5 funcionarios nao bateram a meta do mes!\n",
      "Isso equivale a 38.5%\n"
     ]
    }
   ],
   "source": [
    "vendas = [1200, 400, 500, 1334, 453, 65503, 533, 3411, 5664, 344, 5454, 544132, 34144]\n",
    "\n",
    "meta = 1000\n",
    "\n",
    "qtd_meta = 0 \n",
    "qtd_nmeta = 0\n",
    "\n",
    "for venda in vendas:\n",
    "    if venda >= meta:\n",
    "        qtd_meta += 1\n",
    "    else:\n",
    "        qtd_nmeta += 1\n",
    "\n",
    "qtd_funcionarios = len(vendas)\n",
    "print(f\"{qtd_meta} funcionarios bateram a meta do mes !\\\n",
    "\\nIsso equivale a {qtd_meta / qtd_funcionarios:.1%} do total de funcionarios\")\n",
    "print('#' * 50)\n",
    "print(f\"{qtd_nmeta} funcionarios nao bateram a meta do mes!\\\n",
    "\\nIsso equivale a {qtd_nmeta / qtd_funcionarios:.1%}\")"
   ]
  }
 ],
 "metadata": {
  "interpreter": {
   "hash": "ad2bdc8ecc057115af97d19610ffacc2b4e99fae6737bb82f5d7fb13d2f2c186"
  },
  "kernelspec": {
   "display_name": "Python 3.9.7",
   "language": "python",
   "name": "python3"
  },
  "language_info": {
   "codemirror_mode": {
    "name": "ipython",
    "version": 3
   },
   "file_extension": ".py",
   "mimetype": "text/x-python",
   "name": "python",
   "nbconvert_exporter": "python",
   "pygments_lexer": "ipython3",
   "version": "3.9.7"
  },
  "orig_nbformat": 4
 },
 "nbformat": 4,
 "nbformat_minor": 2
}
