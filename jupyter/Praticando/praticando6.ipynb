{
 "cells": [
  {
   "cell_type": "code",
   "execution_count": 1,
   "metadata": {},
   "outputs": [
    {
     "name": "stdout",
     "output_type": "stream",
     "text": [
      "meu email nao é gabriel@live.com              , show?\n"
     ]
    }
   ],
   "source": [
    "email = 'gabriel@live.com'\n",
    "print(\"meu email nao é {:<30}, show?\".format(email))"
   ]
  },
  {
   "cell_type": "code",
   "execution_count": 4,
   "metadata": {},
   "outputs": [
    {
     "name": "stdout",
     "output_type": "stream",
     "text": [
      "faturamento foi de +270 e lucro foi de -230\n"
     ]
    }
   ],
   "source": [
    "custo = 500\n",
    "fat = 270\n",
    "lucro = fat - custo\n",
    "print(\"faturamento foi de {:+} e lucro foi de {:+}\".format(fat, lucro))"
   ]
  },
  {
   "cell_type": "code",
   "execution_count": 5,
   "metadata": {},
   "outputs": [
    {
     "name": "stdout",
     "output_type": "stream",
     "text": [
      "faturamento foi de +2,700 e lucro foi de -2,300\n"
     ]
    }
   ],
   "source": [
    "custo = 5000\n",
    "fat = 2700\n",
    "lucro = fat - custo\n",
    "print(\"faturamento foi de {:+,} e lucro foi de {:+,}\".format(fat, lucro))"
   ]
  },
  {
   "cell_type": "code",
   "execution_count": 7,
   "metadata": {},
   "outputs": [
    {
     "name": "stdout",
     "output_type": "stream",
     "text": [
      "faturamento foi de 2700.00 e lucro foi de -2300.000000\n"
     ]
    }
   ],
   "source": [
    "custo = 5000\n",
    "fat = 2700\n",
    "lucro = fat - custo\n",
    "print(\"faturamento foi de {:.2f} e lucro foi de {:f}\".format(fat, lucro))"
   ]
  },
  {
   "cell_type": "code",
   "execution_count": 8,
   "metadata": {},
   "outputs": [
    {
     "name": "stdout",
     "output_type": "stream",
     "text": [
      "margem de lucro foi de -85.2%\n"
     ]
    }
   ],
   "source": [
    "custo = 5000\n",
    "fat = 2700\n",
    "lucro = fat - custo\n",
    "margem = lucro / fat\n",
    "print(\"margem de lucro foi de {:.1%}\".format(margem))"
   ]
  },
  {
   "cell_type": "code",
   "execution_count": 10,
   "metadata": {},
   "outputs": [
    {
     "name": "stdout",
     "output_type": "stream",
     "text": [
      "faturamento foi de R$2,700.00 e lucro foi de R$-2,300.00\n",
      "R$-2.300,00\n"
     ]
    }
   ],
   "source": [
    "custo = 5000\n",
    "fat = 2700\n",
    "lucro = fat - custo\n",
    "print(\"faturamento foi de R${:,.2f} e lucro foi de R${:,.2f}\".format(fat, lucro))\n",
    "\n",
    "lucro_texto= 'R${:_.2f}'.format(lucro)\n",
    "print(lucro_texto.replace('.', ',').replace('_', '.'))"
   ]
  },
  {
   "cell_type": "code",
   "execution_count": 14,
   "metadata": {},
   "outputs": [
    {
     "name": "stdout",
     "output_type": "stream",
     "text": [
      "Imposto sobre o preço é de 15.800000\n"
     ]
    }
   ],
   "source": [
    "imposto = 0.15764\n",
    "preco = 100\n",
    "valor_imposto = round(preco * imposto, 1)\n",
    "print(f'Imposto sobre o preço é de {valor_imposto:.6f}')"
   ]
  }
 ],
 "metadata": {
  "interpreter": {
   "hash": "ad2bdc8ecc057115af97d19610ffacc2b4e99fae6737bb82f5d7fb13d2f2c186"
  },
  "kernelspec": {
   "display_name": "Python 3.9.7",
   "language": "python",
   "name": "python3"
  },
  "language_info": {
   "codemirror_mode": {
    "name": "ipython",
    "version": 3
   },
   "file_extension": ".py",
   "mimetype": "text/x-python",
   "name": "python",
   "nbconvert_exporter": "python",
   "pygments_lexer": "ipython3",
   "version": "3.9.7"
  },
  "orig_nbformat": 4
 },
 "nbformat": 4,
 "nbformat_minor": 2
}
