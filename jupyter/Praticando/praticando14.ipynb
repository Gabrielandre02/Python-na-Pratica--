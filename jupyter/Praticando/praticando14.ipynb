{
 "cells": [
  {
   "cell_type": "code",
   "execution_count": 1,
   "metadata": {},
   "outputs": [],
   "source": [
    "funcionarios = ['Maria', 'jose', 'Ana', 'Gabriel', 'Andre', 'Jonas', 'Bianca', 'Marcelo', 'jose']"
   ]
  },
  {
   "cell_type": "code",
   "execution_count": 2,
   "metadata": {},
   "outputs": [
    {
     "name": "stdout",
     "output_type": "stream",
     "text": [
      "Maria\n",
      "jose\n",
      "Ana\n",
      "Gabriel\n",
      "Andre\n",
      "Jonas\n",
      "Bianca\n",
      "Marcelo\n",
      "jose\n"
     ]
    }
   ],
   "source": [
    "for funcionario in funcionarios:\n",
    "    print(funcionario)"
   ]
  },
  {
   "cell_type": "code",
   "execution_count": 3,
   "metadata": {},
   "outputs": [
    {
     "name": "stdout",
     "output_type": "stream",
     "text": [
      "0 é o funcionario Maria\n",
      "1 é o funcionario jose\n",
      "2 é o funcionario Ana\n",
      "3 é o funcionario Gabriel\n",
      "4 é o funcionario Andre\n",
      "5 é o funcionario Jonas\n",
      "6 é o funcionario Bianca\n",
      "7 é o funcionario Marcelo\n",
      "8 é o funcionario jose\n"
     ]
    }
   ],
   "source": [
    "for i, funcionario in enumerate(funcionarios):\n",
    "    print(f\"{i} é o funcionario {funcionario}\")"
   ]
  },
  {
   "cell_type": "code",
   "execution_count": 6,
   "metadata": {},
   "outputs": [],
   "source": [
    "estoque = [1200, 300, 800, 1500, 1900, 2750, 400, 20, 23, 70, 90, 80, 1100, 999, 900, 880, 870, 50, 1111, 120, 300, 450, 800]\n",
    "produtos = ['coca', 'pepsi', 'guarana', 'skol', 'brahma', 'agua', 'del valle',\\\n",
    "'dolly', 'red bull', 'cachaça', 'vinho tinto', 'vodka', 'vinho branco', 'tequila',\\\n",
    "'champagne', 'gin', 'guaracamp', 'matte', 'leite de castanha', 'leite', 'jurupinga', 'sprite', 'fanta']\n",
    "nivel_maximo = 50"
   ]
  },
  {
   "cell_type": "code",
   "execution_count": 11,
   "metadata": {},
   "outputs": [
    {
     "name": "stdout",
     "output_type": "stream",
     "text": [
      "dolly esta abaixo do nivel minimo. Temos apenas 20 unidas\n",
      "red bull esta abaixo do nivel minimo. Temos apenas 23 unidas\n"
     ]
    }
   ],
   "source": [
    "for i, qtd in enumerate(estoque):\n",
    "    if qtd < nivel_maximo:\n",
    "        print(f\"{produtos[i]} esta abaixo do nivel minimo. Temos apenas {qtd} unidas\")"
   ]
  },
  {
   "cell_type": "code",
   "execution_count": null,
   "metadata": {},
   "outputs": [],
   "source": [
    "estoque = [\n",
    "    [294, 125, 269, 208, 783, 852, 259, 371, 47, 102, 386, 87, 685, 686, 697, 941, 163, 631, 7, 714, 218, 670, 453],\n",
    "    [648, 816, 310, 555, 992, 643, 226, 319, 501, 23, 239, 42, 372, 441, 126, 645, 927, 911, 761, 445, 974, 2, 549],\n",
    "    [832, 683, 784, 449, 977, 705, 198, 937, 729, 327, 339, 10, 975, 310, 95, 689, 137, 795, 211, 538, 933, 751, 522],\n",
    "    [837, 168, 570, 397, 53, 297, 966, 714, 72, 737, 259, 629, 625, 469, 922, 305, 782, 243, 841, 848, 372, 621, 362],\n",
    "    [429, 242, 53, 985, 406, 186, 198, 50, 501, 870, 781, 632, 781, 105, 644, 509, 401, 88, 961, 765, 422, 340, 654],\n",
    "]\n",
    "fabricas = ['Carmo Cia Manufacturing', 'Fábrica Python', 'Python Manufaturas', 'Produções e Cia', 'Manufatura e Cia']\n",
    "nivel_minimo = 50\n",
    "fabrica = []\n",
    "\n",
    "for i, item in enumerate(estoque):\n",
    "    for qtd in item:\n",
    "        if qtd < nivel_minimo:\n",
    "            if fabricas[i] in fabrica:\n",
    "                pass\n",
    "            else:\n",
    "                fabrica.append(fabricas[i])\n",
    "\n",
    "print(fabrica)"
   ]
  }
 ],
 "metadata": {
  "interpreter": {
   "hash": "ad2bdc8ecc057115af97d19610ffacc2b4e99fae6737bb82f5d7fb13d2f2c186"
  },
  "kernelspec": {
   "display_name": "Python 3.9.7",
   "language": "python",
   "name": "python3"
  },
  "language_info": {
   "codemirror_mode": {
    "name": "ipython",
    "version": 3
   },
   "file_extension": ".py",
   "mimetype": "text/x-python",
   "name": "python",
   "nbconvert_exporter": "python",
   "pygments_lexer": "ipython3",
   "version": "3.9.7"
  },
  "orig_nbformat": 4
 },
 "nbformat": 4,
 "nbformat_minor": 2
}
