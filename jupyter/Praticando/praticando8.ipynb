{
 "cells": [
  {
   "cell_type": "code",
   "execution_count": 8,
   "metadata": {},
   "outputs": [
    {
     "name": "stdout",
     "output_type": "stream",
     "text": [
      "['apple tv', 'apple watch', 'iphone x', 'imac', 'ipad', 'mac book']\n",
      "['apple tv', 'apple watch', 'iphone x', 'imac', 'ipad', 'mac book', 'iphone 11']\n",
      "removemos o iphone x da lista\n"
     ]
    }
   ],
   "source": [
    "prd = ['apple tv','apple watch','iphone x','imac','ipad','mac book']\n",
    "print(prd)\n",
    "#adicionar o produto\n",
    "prd.append('iphone 11')\n",
    "print(prd)\n",
    "\n",
    "#remover o produto\n",
    "#prd.remove('iphone x')\n",
    "item_removido = prd.pop(2)\n",
    "\n",
    "print(f\"removemos o {item_removido} da lista\")"
   ]
  },
  {
   "cell_type": "code",
   "execution_count": 13,
   "metadata": {},
   "outputs": [
    {
     "name": "stdout",
     "output_type": "stream",
     "text": [
      "['apple tv', 'apple watch', 'iphone x', 'imac', 'ipad', 'mac book']\n",
      "['apple tv', 'apple watch', 'iphone x', 'imac', 'ipad', 'mac book', 'iphone 11']\n",
      "iphonex nao existe na lista de produtos\n"
     ]
    }
   ],
   "source": [
    "prd = ['apple tv','apple watch','iphone x','imac','ipad','mac book']\n",
    "print(prd)\n",
    "#adicionar o produto\n",
    "prd.append('iphone 11')\n",
    "print(prd)\n",
    "\n",
    "#remover o produto\n",
    "prd_remove = 'iphonex'\n",
    "\n",
    "if prd_remove in prd:\n",
    "    prd.remove('iphonex')\n",
    "else:\n",
    "    print(f\"{prd_remove} nao existe na lista de produtos\")"
   ]
  },
  {
   "cell_type": "code",
   "execution_count": 15,
   "metadata": {},
   "outputs": [
    {
     "name": "stdout",
     "output_type": "stream",
     "text": [
      "['apple tv', 'apple watch', 'imac', 'ipad', 'mac book', 'iphone 11']\n"
     ]
    }
   ],
   "source": [
    "try:\n",
    "    prd.remove('iphone x')\n",
    "    print(prd)\n",
    "except:\n",
    "    pass"
   ]
  },
  {
   "cell_type": "code",
   "execution_count": 16,
   "metadata": {},
   "outputs": [],
   "source": [
    "prd1 = ['apple tv','apple watch','iphone x','imac','ipad','mac book']"
   ]
  },
  {
   "cell_type": "code",
   "execution_count": 19,
   "metadata": {},
   "outputs": [
    {
     "name": "stdout",
     "output_type": "stream",
     "text": [
      "Temos 6 produtos\n"
     ]
    }
   ],
   "source": [
    "tamanho = len(prd1)\n",
    "print(f\"Temos {tamanho} produtos\")"
   ]
  },
  {
   "cell_type": "code",
   "execution_count": 23,
   "metadata": {},
   "outputs": [],
   "source": [
    "prd2 = ['apple tv','apple watch','iphone x','imac','ipad','mac book']\n",
    "vendas = [1000, 444, 553, 134, 41344, 4313]"
   ]
  },
  {
   "cell_type": "code",
   "execution_count": null,
   "metadata": {},
   "outputs": [
    {
     "name": "stdout",
     "output_type": "stream",
     "text": [
      "O produto mais vendido teve 41344 e o menos vendido teve 134\n"
     ]
    }
   ],
   "source": [
    "maior = max(vendas)\n",
    "menor = min(vendas)\n",
    "print(f\"O produto mais vendido teve {maior} e o menos vendido teve {menor}\")"
   ]
  },
  {
   "cell_type": "code",
   "execution_count": 29,
   "metadata": {},
   "outputs": [
    {
     "name": "stdout",
     "output_type": "stream",
     "text": [
      "ipad\n",
      "imac\n"
     ]
    }
   ],
   "source": [
    "i = vendas.index(maior)\n",
    "prd_mais_vendido = prd2[i]\n",
    "\n",
    "i = vendas.index(menor)\n",
    "prd_menos_vendido = prd2[i]\n",
    "\n",
    "print(prd_mais_vendido)\n",
    "print(prd_menos_vendido)"
   ]
  }
 ],
 "metadata": {
  "interpreter": {
   "hash": "ad2bdc8ecc057115af97d19610ffacc2b4e99fae6737bb82f5d7fb13d2f2c186"
  },
  "kernelspec": {
   "display_name": "Python 3.9.7",
   "language": "python",
   "name": "python3"
  },
  "language_info": {
   "codemirror_mode": {
    "name": "ipython",
    "version": 3
   },
   "file_extension": ".py",
   "mimetype": "text/x-python",
   "name": "python",
   "nbconvert_exporter": "python",
   "pygments_lexer": "ipython3",
   "version": "3.9.7"
  },
  "orig_nbformat": 4
 },
 "nbformat": 4,
 "nbformat_minor": 2
}
