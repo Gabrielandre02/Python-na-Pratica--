{
 "cells": [
  {
   "cell_type": "markdown",
   "metadata": {},
   "source": [
    "# Argumentos/Parâmetros da Função\n",
    "\n",
    "### Estrutura:"
   ]
  },
  {
   "cell_type": "raw",
   "metadata": {},
   "source": [
    "def minha_funcao(parametro1, parametro2, parametro3):\n",
    "    return parametro1 + parametro2 + parametro3"
   ]
  },
  {
   "cell_type": "markdown",
   "metadata": {},
   "source": [
    "- Exemplo: nosso famoso print"
   ]
  },
  {
   "cell_type": "code",
   "execution_count": 1,
   "metadata": {},
   "outputs": [
    {
     "name": "stdout",
     "output_type": "stream",
     "text": [
      "Hello world\n"
     ]
    }
   ],
   "source": [
    "print(\"Hello world\")"
   ]
  },
  {
   "cell_type": "markdown",
   "metadata": {},
   "source": [
    "- Só para mostrar o funcionamento, vamos criar uma função de soma"
   ]
  },
  {
   "cell_type": "code",
   "execution_count": 11,
   "metadata": {},
   "outputs": [],
   "source": [
    "def soma(a, b):\n",
    "    total = a + b\n",
    "    return total"
   ]
  },
  {
   "cell_type": "code",
   "execution_count": 15,
   "metadata": {},
   "outputs": [
    {
     "name": "stdout",
     "output_type": "stream",
     "text": [
      "O total da sua soma de 5 + 9 é : 14\n"
     ]
    }
   ],
   "source": [
    "primeiro = int(input('Digite um valor: '))\n",
    "segundo = int(input('Digite um valor: '))\n",
    "\n",
    "total = soma(primeiro, segundo)\n",
    "\n",
    "print(F\"O total da sua soma de {primeiro} + {segundo} é : {total}\")"
   ]
  },
  {
   "cell_type": "markdown",
   "metadata": {},
   "source": [
    "- Vamos criar uma function com parâmetro\n",
    "\n",
    "Digamos que estamos criando um programa para categorizar os produtos de uma revendedora de bebidas.\n",
    "\n",
    "Cada produto tem um código. O tipo de produto é dado pelas 3 primeiras letras do código.\n",
    "\n",
    "Ex:<br>\n",
    "Vinho -> BEB12302<br>\n",
    "Cerveja -> BEB12043<br>\n",
    "Vodka -> BEB34501<br>\n",
    "\n",
    "Guaraná -> BSA11104<br>\n",
    "Coca -> BSA54301<br>\n",
    "Sprite -> BSA34012<br>\n",
    "Água -> BSA09871<br>\n",
    "\n",
    "Repare que bebidas não alcóolicas começam com BSA e bebidas alcoolicas começam com BEB.\n",
    "\n",
    "Crie um programa que analise uma lista de produtos e envie instruções para a equipe de estoque dizendo quais produtos devem ser enviados para a área de bebidas alcóolicas."
   ]
  },
  {
   "cell_type": "code",
   "execution_count": 16,
   "metadata": {},
   "outputs": [],
   "source": [
    "produtos = ['beb46275','TFA23962','TFA64715','TFA69555','TFA56743','BSA45510','TFA44968','CAR75448','CAR23596','CAR13490','BEB21365','BEB31623','BSA62419','BEB73344','TFA20079','BEB80694','BSA11769','BEB19495','TFA14792','TFA78043','BSA33484','BEB97471','BEB62362','TFA27311','TFA17715','BEB85146','BEB48898','BEB79496','CAR38417','TFA19947','TFA58799','CAR94811','BSA59251','BEB15385','BEB24213','BEB56262','BSA96915','CAR53454','BEB75073']\n"
   ]
  },
  {
   "cell_type": "code",
   "execution_count": 25,
   "metadata": {},
   "outputs": [
    {
     "name": "stdout",
     "output_type": "stream",
     "text": [
      "Enviar o beb46275 para o setor de bebidas alcoolicas\n",
      "Verificar TFA23962, em qual setor que deve ser enviado\n",
      "Verificar TFA64715, em qual setor que deve ser enviado\n",
      "Verificar TFA69555, em qual setor que deve ser enviado\n",
      "Verificar TFA56743, em qual setor que deve ser enviado\n",
      "Enviar o BSA45510 para o setor de bebidas nao alcoolicas\n",
      "Verificar TFA44968, em qual setor que deve ser enviado\n",
      "Verificar CAR75448, em qual setor que deve ser enviado\n",
      "Verificar CAR23596, em qual setor que deve ser enviado\n",
      "Verificar CAR13490, em qual setor que deve ser enviado\n",
      "Enviar o BEB21365 para o setor de bebidas alcoolicas\n",
      "Enviar o BEB31623 para o setor de bebidas alcoolicas\n",
      "Enviar o BSA62419 para o setor de bebidas nao alcoolicas\n",
      "Enviar o BEB73344 para o setor de bebidas alcoolicas\n",
      "Verificar TFA20079, em qual setor que deve ser enviado\n",
      "Enviar o BEB80694 para o setor de bebidas alcoolicas\n",
      "Enviar o BSA11769 para o setor de bebidas nao alcoolicas\n",
      "Enviar o BEB19495 para o setor de bebidas alcoolicas\n",
      "Verificar TFA14792, em qual setor que deve ser enviado\n",
      "Verificar TFA78043, em qual setor que deve ser enviado\n",
      "Enviar o BSA33484 para o setor de bebidas nao alcoolicas\n",
      "Enviar o BEB97471 para o setor de bebidas alcoolicas\n",
      "Enviar o BEB62362 para o setor de bebidas alcoolicas\n",
      "Verificar TFA27311, em qual setor que deve ser enviado\n",
      "Verificar TFA17715, em qual setor que deve ser enviado\n",
      "Enviar o BEB85146 para o setor de bebidas alcoolicas\n",
      "Enviar o BEB48898 para o setor de bebidas alcoolicas\n",
      "Enviar o BEB79496 para o setor de bebidas alcoolicas\n",
      "Verificar CAR38417, em qual setor que deve ser enviado\n",
      "Verificar TFA19947, em qual setor que deve ser enviado\n",
      "Verificar TFA58799, em qual setor que deve ser enviado\n",
      "Verificar CAR94811, em qual setor que deve ser enviado\n",
      "Enviar o BSA59251 para o setor de bebidas nao alcoolicas\n",
      "Enviar o BEB15385 para o setor de bebidas alcoolicas\n",
      "Enviar o BEB24213 para o setor de bebidas alcoolicas\n",
      "Enviar o BEB56262 para o setor de bebidas alcoolicas\n",
      "Enviar o BSA96915 para o setor de bebidas nao alcoolicas\n",
      "Verificar CAR53454, em qual setor que deve ser enviado\n",
      "Enviar o BEB75073 para o setor de bebidas alcoolicas\n"
     ]
    }
   ],
   "source": [
    "def alc(bebida):\n",
    "    bebida = bebida.upper()\n",
    "    if 'BEB' in bebida:\n",
    "        print(f\"Enviar o {produto} para o setor de bebidas alcoolicas\")\n",
    "    elif 'BSA' in bebida:\n",
    "        print(f\"Enviar o {produto} para o setor de bebidas nao alcoolicas\")\n",
    "    else:\n",
    "        print(f\"Verificar {produto}, em qual setor que deve ser enviado\")\n",
    "\n",
    "for produto in produtos:\n",
    "    alc(produto)"
   ]
  }
 ],
 "metadata": {
  "interpreter": {
   "hash": "ad2bdc8ecc057115af97d19610ffacc2b4e99fae6737bb82f5d7fb13d2f2c186"
  },
  "kernelspec": {
   "display_name": "Python 3.9.7",
   "language": "python",
   "name": "python3"
  },
  "language_info": {
   "codemirror_mode": {
    "name": "ipython",
    "version": 3
   },
   "file_extension": ".py",
   "mimetype": "text/x-python",
   "name": "python",
   "nbconvert_exporter": "python",
   "pygments_lexer": "ipython3",
   "version": "3.9.7"
  }
 },
 "nbformat": 4,
 "nbformat_minor": 4
}
