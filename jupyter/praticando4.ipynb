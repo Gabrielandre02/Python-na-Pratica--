{
 "cells": [
  {
   "cell_type": "code",
   "execution_count": 2,
   "metadata": {},
   "outputs": [
    {
     "name": "stdout",
     "output_type": "stream",
     "text": [
      "17\n",
      "13\n"
     ]
    }
   ],
   "source": [
    "email = 'gabriel@gmail.com'\n",
    "nome = 'Gabriel Andre'\n",
    "\n",
    "print(len(email))\n",
    "print(len(nome))"
   ]
  },
  {
   "cell_type": "code",
   "execution_count": 5,
   "metadata": {},
   "outputs": [
    {
     "name": "stdout",
     "output_type": "stream",
     "text": [
      "i\n",
      "m\n",
      "i\n"
     ]
    }
   ],
   "source": [
    "print(email[4])\n",
    "print(email[9])\n",
    "print(email[11])"
   ]
  },
  {
   "cell_type": "code",
   "execution_count": 7,
   "metadata": {},
   "outputs": [
    {
     "name": "stdout",
     "output_type": "stream",
     "text": [
      "A\n",
      "b\n",
      "e\n"
     ]
    }
   ],
   "source": [
    "print(nome[8])\n",
    "print(nome[2])\n",
    "print(nome[12])"
   ]
  },
  {
   "cell_type": "code",
   "execution_count": 14,
   "metadata": {},
   "outputs": [
    {
     "name": "stdout",
     "output_type": "stream",
     "text": [
      "gab\n",
      "@gmail.com\n"
     ]
    }
   ],
   "source": [
    "print(email[:3])\n",
    "print(email[7:])"
   ]
  },
  {
   "cell_type": "code",
   "execution_count": 18,
   "metadata": {},
   "outputs": [
    {
     "name": "stdout",
     "output_type": "stream",
     "text": [
      "Tamanho do e-mail 17 caracteres\n",
      "Primeiro Caracte g\n",
      "Ultimo Caractere m\n",
      "servidor do email@gmail.com\n"
     ]
    }
   ],
   "source": [
    "print(\"Tamanho do e-mail \" + str(len(email)) + ' caracteres')\n",
    "print(\"Primeiro Caracte \" + email[0] )\n",
    "print(\"Ultimo Caractere \" + email[-1] )\n",
    "print(\"servidor do email\" + email[7:])\n"
   ]
  },
  {
   "cell_type": "code",
   "execution_count": 20,
   "metadata": {},
   "outputs": [],
   "source": [
    "faturamento = 1000\n",
    "custo = 500\n",
    "Lucro = faturamento - custo"
   ]
  },
  {
   "cell_type": "code",
   "execution_count": 21,
   "metadata": {},
   "outputs": [
    {
     "name": "stdout",
     "output_type": "stream",
     "text": [
      "O faturamento da loja foi de de : 1000\n"
     ]
    }
   ],
   "source": [
    "print(\"O faturamento da loja foi de de : \" + str(faturamento))"
   ]
  },
  {
   "cell_type": "code",
   "execution_count": 27,
   "metadata": {},
   "outputs": [
    {
     "name": "stdout",
     "output_type": "stream",
     "text": [
      "O faturamento foi de: 500\n",
      "O faturamento foi de: 1000, porem no mes passado tivemos um lucro de 500, porem o faturamento esse mes aumento e fechamos em 1000\n"
     ]
    }
   ],
   "source": [
    "print(\"O faturamento foi de: {}\".format(Lucro))\n",
    "print(\"O faturamento foi de: {1}, porem no mes passado tivemos um lucro de {0}, porem o faturamento esse mes aumento e fechamos em {1}\".format(Lucro, faturamento))"
   ]
  },
  {
   "cell_type": "code",
   "execution_count": 26,
   "metadata": {},
   "outputs": [
    {
     "name": "stdout",
     "output_type": "stream",
     "text": [
      "O faturamento foi de: 1000 e o custo foi de 500, e o lucro foi de 500 \n"
     ]
    }
   ],
   "source": [
    "print(f\"O faturamento foi de: {faturamento} e o custo foi de {custo}, e o lucro foi de {Lucro} \")"
   ]
  },
  {
   "cell_type": "code",
   "execution_count": 30,
   "metadata": {},
   "outputs": [
    {
     "name": "stdout",
     "output_type": "stream",
     "text": [
      "O faturamento foi de : 1000. O custo foi de 500 e o Lucro foi de 500\n"
     ]
    }
   ],
   "source": [
    "print(\"O faturamento foi de : %d. O custo foi de %d e o Lucro foi de %d\" % (faturamento, custo, Lucro))"
   ]
  },
  {
   "cell_type": "code",
   "execution_count": 31,
   "metadata": {},
   "outputs": [
    {
     "name": "stdout",
     "output_type": "stream",
     "text": [
      "True\n",
      "False\n"
     ]
    }
   ],
   "source": [
    "print('@' in 'gabriel@gmail')\n",
    "print('@' in 'gabriel.gmail.com')"
   ]
  }
 ],
 "metadata": {
  "interpreter": {
   "hash": "a02c5d3f266f8ea9d2e9358e355e19b4a758d9a9696d77ec6fd0919dea87b478"
  },
  "kernelspec": {
   "display_name": "Python 3.9.7 ('base')",
   "language": "python",
   "name": "python3"
  },
  "language_info": {
   "codemirror_mode": {
    "name": "ipython",
    "version": 3
   },
   "file_extension": ".py",
   "mimetype": "text/x-python",
   "name": "python",
   "nbconvert_exporter": "python",
   "pygments_lexer": "ipython3",
   "version": "3.9.7"
  },
  "orig_nbformat": 4
 },
 "nbformat": 4,
 "nbformat_minor": 2
}
