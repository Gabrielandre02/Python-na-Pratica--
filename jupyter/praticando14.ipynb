{
 "cells": [
  {
   "cell_type": "code",
   "execution_count": 1,
   "metadata": {},
   "outputs": [],
   "source": [
    "funcionarios = ['Maria', 'jose', 'Ana', 'Gabriel', 'Andre', 'Jonas', 'Bianca', 'Marcelo', 'jose']"
   ]
  },
  {
   "cell_type": "code",
   "execution_count": 2,
   "metadata": {},
   "outputs": [
    {
     "name": "stdout",
     "output_type": "stream",
     "text": [
      "Maria\n",
      "jose\n",
      "Ana\n",
      "Gabriel\n",
      "Andre\n",
      "Jonas\n",
      "Bianca\n",
      "Marcelo\n",
      "jose\n"
     ]
    }
   ],
   "source": [
    "for funcionario in funcionarios:\n",
    "    print(funcionario)"
   ]
  },
  {
   "cell_type": "code",
   "execution_count": 3,
   "metadata": {},
   "outputs": [
    {
     "name": "stdout",
     "output_type": "stream",
     "text": [
      "0 é o funcionario Maria\n",
      "1 é o funcionario jose\n",
      "2 é o funcionario Ana\n",
      "3 é o funcionario Gabriel\n",
      "4 é o funcionario Andre\n",
      "5 é o funcionario Jonas\n",
      "6 é o funcionario Bianca\n",
      "7 é o funcionario Marcelo\n",
      "8 é o funcionario jose\n"
     ]
    }
   ],
   "source": [
    "for i, funcionario in enumerate(funcionarios):\n",
    "    print(f\"{i} é o funcionario {funcionario}\")"
   ]
  },
  {
   "cell_type": "code",
   "execution_count": 6,
   "metadata": {},
   "outputs": [],
   "source": [
    "estoque = [1200, 300, 800, 1500, 1900, 2750, 400, 20, 23, 70, 90, 80, 1100, 999, 900, 880, 870, 50, 1111, 120, 300, 450, 800]\n",
    "produtos = ['coca', 'pepsi', 'guarana', 'skol', 'brahma', 'agua', 'del valle',\\\n",
    "'dolly', 'red bull', 'cachaça', 'vinho tinto', 'vodka', 'vinho branco', 'tequila',\\\n",
    "'champagne', 'gin', 'guaracamp', 'matte', 'leite de castanha', 'leite', 'jurupinga', 'sprite', 'fanta']\n",
    "nivel_maximo = 50"
   ]
  },
  {
   "cell_type": "code",
   "execution_count": 11,
   "metadata": {},
   "outputs": [
    {
     "name": "stdout",
     "output_type": "stream",
     "text": [
      "dolly esta abaixo do nivel minimo. Temos apenas 20 unidas\n",
      "red bull esta abaixo do nivel minimo. Temos apenas 23 unidas\n"
     ]
    }
   ],
   "source": [
    "for i, qtd in enumerate(estoque):\n",
    "    if qtd < nivel_maximo:\n",
    "        print(f\"{produtos[i]} esta abaixo do nivel minimo. Temos apenas {qtd} unidas\")"
   ]
  }
 ],
 "metadata": {
  "interpreter": {
   "hash": "ad2bdc8ecc057115af97d19610ffacc2b4e99fae6737bb82f5d7fb13d2f2c186"
  },
  "kernelspec": {
   "display_name": "Python 3.9.7",
   "language": "python",
   "name": "python3"
  },
  "language_info": {
   "codemirror_mode": {
    "name": "ipython",
    "version": 3
   },
   "file_extension": ".py",
   "mimetype": "text/x-python",
   "name": "python",
   "nbconvert_exporter": "python",
   "pygments_lexer": "ipython3",
   "version": "3.9.7"
  },
  "orig_nbformat": 4
 },
 "nbformat": 4,
 "nbformat_minor": 2
}
