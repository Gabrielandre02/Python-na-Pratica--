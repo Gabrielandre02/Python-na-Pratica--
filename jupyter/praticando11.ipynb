{
 "cells": [
  {
   "cell_type": "code",
   "execution_count": 16,
   "metadata": {},
   "outputs": [
    {
     "name": "stdout",
     "output_type": "stream",
     "text": [
      "['ipad', 'iphone', 'imac']\n"
     ]
    }
   ],
   "source": [
    "lista = ['ipad', 'iphone']\n",
    "vendas = [300, 100]\n",
    "lista += ['imac']\n",
    "print(lista)"
   ]
  },
  {
   "cell_type": "code",
   "execution_count": 14,
   "metadata": {},
   "outputs": [
    {
     "name": "stdout",
     "output_type": "stream",
     "text": [
      "800\n"
     ]
    }
   ],
   "source": [
    "soma_vendas = 300\n",
    "soma_vendas += 500\n",
    "print(soma_vendas)"
   ]
  },
  {
   "cell_type": "code",
   "execution_count": 17,
   "metadata": {},
   "outputs": [
    {
     "name": "stdout",
     "output_type": "stream",
     "text": [
      "Esse mês vendemos um total de 800 produtos, sendo:\n",
      "300 unidade de ipad\n",
      "100 unidade de iphone\n",
      "500 unidades de imac\n"
     ]
    }
   ],
   "source": [
    "email = f'Esse mês vendemos um total de {soma_vendas} produtos, sendo:\\n{vendas[0]}\\\n",
    " unidade de {lista[0]}\\n{vendas[1]} unidade de {lista[1]}'\n",
    "email += f'\\n{500} unidades de imac'\n",
    "print(email)"
   ]
  },
  {
   "cell_type": "code",
   "execution_count": null,
   "metadata": {},
   "outputs": [],
   "source": [
    "faturamento = 2500\n",
    "faturamento2 =  faturamento"
   ]
  },
  {
   "cell_type": "code",
   "execution_count": 24,
   "metadata": {},
   "outputs": [
    {
     "name": "stdout",
     "output_type": "stream",
     "text": [
      "['ipad', 'iphone 11', 'mac']\n",
      "['ipad', 'iphone 11', 'mac']\n"
     ]
    }
   ],
   "source": [
    "lista1 = ['ipad', 'iphone', 'mac']\n",
    "lista2 = lista1\n",
    "\n",
    "lista1[1] = 'iphone 11'\n",
    "#isso nao e copiar a lista, voce so esta atribuindo a outra variavel\n",
    "print(lista1)\n",
    "print(lista2)"
   ]
  },
  {
   "cell_type": "code",
   "execution_count": 28,
   "metadata": {},
   "outputs": [
    {
     "name": "stdout",
     "output_type": "stream",
     "text": [
      "['ipad', 'iphone 11', 'mac']\n",
      "['ipad', 'iphone', 'mac']\n",
      "['ipad', 'iphone 11', 'mac']\n"
     ]
    }
   ],
   "source": [
    "#copiando uma lista\n",
    "lista1 = ['ipad', 'iphone', 'mac']\n",
    "lista2 = lista1.copy()\n",
    "lista1[1] = 'iphone 11'\n",
    "\n",
    "print(lista1)\n",
    "print(lista2)\n",
    "\n",
    "#outra maneira de copiar tambem\n",
    "lista3 = lista1[:]\n",
    "print(lista3)"
   ]
  },
  {
   "cell_type": "code",
   "execution_count": null,
   "metadata": {},
   "outputs": [],
   "source": []
  }
 ],
 "metadata": {
  "interpreter": {
   "hash": "ad2bdc8ecc057115af97d19610ffacc2b4e99fae6737bb82f5d7fb13d2f2c186"
  },
  "kernelspec": {
   "display_name": "Python 3.9.7",
   "language": "python",
   "name": "python3"
  },
  "language_info": {
   "codemirror_mode": {
    "name": "ipython",
    "version": 3
   },
   "file_extension": ".py",
   "mimetype": "text/x-python",
   "name": "python",
   "nbconvert_exporter": "python",
   "pygments_lexer": "ipython3",
   "version": "3.9.7"
  },
  "orig_nbformat": 4
 },
 "nbformat": 4,
 "nbformat_minor": 2
}
