{
 "cells": [
  {
   "cell_type": "code",
   "execution_count": 2,
   "metadata": {},
   "outputs": [],
   "source": [
    "vendas_tecnologia = {'iphone': 15000, 'samsung galaxy': 12000, 'tv samsung': 10000, 'ps5': 14300, 'tablet': 1720, 'ipad': 1000, 'tv philco': 2500, 'notebook hp': 1000, 'notebook dell': 17000, 'notebook asus': 2450}"
   ]
  },
  {
   "cell_type": "code",
   "execution_count": 5,
   "metadata": {},
   "outputs": [
    {
     "name": "stdout",
     "output_type": "stream",
     "text": [
      "iphone: 15000 unidades\n",
      "samsung galaxy: 12000 unidades\n",
      "tv samsung: 10000 unidades\n",
      "ps5: 14300 unidades\n",
      "tablet: 1720 unidades\n",
      "ipad: 1000 unidades\n",
      "tv philco: 2500 unidades\n",
      "notebook hp: 1000 unidades\n",
      "notebook dell: 17000 unidades\n",
      "notebook asus: 2450 unidades\n"
     ]
    }
   ],
   "source": [
    "for chave in vendas_tecnologia:\n",
    "    print(f\"{chave}: {vendas_tecnologia[chave]} unidades\")"
   ]
  },
  {
   "cell_type": "code",
   "execution_count": 8,
   "metadata": {},
   "outputs": [
    {
     "name": "stdout",
     "output_type": "stream",
     "text": [
      "20450\n"
     ]
    }
   ],
   "source": [
    "total_not = 0\n",
    "\n",
    "for chave in vendas_tecnologia:\n",
    "    if 'notebook' in chave:\n",
    "        total_not += vendas_tecnologia[chave]\n",
    "\n",
    "print(total_not)"
   ]
  }
 ],
 "metadata": {
  "interpreter": {
   "hash": "ad2bdc8ecc057115af97d19610ffacc2b4e99fae6737bb82f5d7fb13d2f2c186"
  },
  "kernelspec": {
   "display_name": "Python 3.9.7",
   "language": "python",
   "name": "python3"
  },
  "language_info": {
   "codemirror_mode": {
    "name": "ipython",
    "version": 3
   },
   "file_extension": ".py",
   "mimetype": "text/x-python",
   "name": "python",
   "nbconvert_exporter": "python",
   "pygments_lexer": "ipython3",
   "version": "3.9.7"
  },
  "orig_nbformat": 4
 },
 "nbformat": 4,
 "nbformat_minor": 2
}
