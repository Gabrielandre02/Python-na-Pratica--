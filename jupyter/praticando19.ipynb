{
 "cells": [
  {
   "cell_type": "code",
   "execution_count": 2,
   "metadata": {},
   "outputs": [],
   "source": [
    "vendas_tecnologia = {'iphone': 15000, 'samsung galaxy': 12000, 'tv samsung': 10000, 'ps5': 14300, 'tablet': 1720, 'ipad': 1000, 'tv philco': 2500, 'notebook hp': 1000, 'notebook dell': 17000, 'notebook asus': 2450}"
   ]
  },
  {
   "cell_type": "code",
   "execution_count": 5,
   "metadata": {},
   "outputs": [
    {
     "name": "stdout",
     "output_type": "stream",
     "text": [
      "iphone: 15000 unidades\n",
      "samsung galaxy: 12000 unidades\n",
      "tv samsung: 10000 unidades\n",
      "ps5: 14300 unidades\n",
      "tablet: 1720 unidades\n",
      "ipad: 1000 unidades\n",
      "tv philco: 2500 unidades\n",
      "notebook hp: 1000 unidades\n",
      "notebook dell: 17000 unidades\n",
      "notebook asus: 2450 unidades\n"
     ]
    }
   ],
   "source": [
    "for chave in vendas_tecnologia:\n",
    "    print(f\"{chave}: {vendas_tecnologia[chave]} unidades\")"
   ]
  },
  {
   "cell_type": "code",
   "execution_count": 8,
   "metadata": {},
   "outputs": [
    {
     "name": "stdout",
     "output_type": "stream",
     "text": [
      "20450\n"
     ]
    }
   ],
   "source": [
    "total_not = 0\n",
    "\n",
    "for chave in vendas_tecnologia:\n",
    "    if 'notebook' in chave:\n",
    "        total_not += vendas_tecnologia[chave]\n",
    "\n",
    "print(total_not)"
   ]
  },
  {
   "cell_type": "code",
   "execution_count": 1,
   "metadata": {},
   "outputs": [],
   "source": [
    "vendas_tecnologia = {'notebook asus': 2450, 'iphone': 15000, 'samsung galaxy': 12000, 'tv samsung': 10000, 'ps5': 14300, 'tablet': 1720, 'notebook dell': 17000, 'ipad': 1000, 'tv philco': 2500, 'notebook hp': 1000}\n"
   ]
  },
  {
   "cell_type": "code",
   "execution_count": 2,
   "metadata": {},
   "outputs": [
    {
     "name": "stdout",
     "output_type": "stream",
     "text": [
      "dict_items([('notebook asus', 2450), ('iphone', 15000), ('samsung galaxy', 12000), ('tv samsung', 10000), ('ps5', 14300), ('tablet', 1720), ('notebook dell', 17000), ('ipad', 1000), ('tv philco', 2500), ('notebook hp', 1000)])\n"
     ]
    }
   ],
   "source": [
    "itens_dici = vendas_tecnologia.items()\n",
    "print(itens_dici)"
   ]
  },
  {
   "cell_type": "code",
   "execution_count": 6,
   "metadata": {},
   "outputs": [
    {
     "name": "stdout",
     "output_type": "stream",
     "text": [
      "notebook asus: 2450 unidades\n",
      "iphone: 15000 unidades\n",
      "samsung galaxy: 12000 unidades\n",
      "tv samsung: 10000 unidades\n",
      "ps5: 14300 unidades\n",
      "tablet: 1720 unidades\n",
      "notebook dell: 17000 unidades\n",
      "ipad: 1000 unidades\n",
      "tv philco: 2500 unidades\n",
      "notebook hp: 1000 unidades\n"
     ]
    }
   ],
   "source": [
    "for produto, qtd in vendas_tecnologia.items():\n",
    "    print(f\"{produto}: {qtd} unidades\")"
   ]
  },
  {
   "cell_type": "code",
   "execution_count": 9,
   "metadata": {},
   "outputs": [
    {
     "name": "stdout",
     "output_type": "stream",
     "text": [
      "iphone 15000 unidades\n",
      "samsung galaxy 12000 unidades\n",
      "tv samsung 10000 unidades\n",
      "ps5 14300 unidades\n",
      "notebook dell 17000 unidades\n"
     ]
    }
   ],
   "source": [
    "for chave in vendas_tecnologia:\n",
    "    if vendas_tecnologia[chave] > 5000:\n",
    "        print(f\"{chave} {vendas_tecnologia[chave]} unidades\")"
   ]
  },
  {
   "cell_type": "code",
   "execution_count": 12,
   "metadata": {},
   "outputs": [
    {
     "name": "stdout",
     "output_type": "stream",
     "text": [
      "iphone: 1000 unidades\n",
      "samsung galaxy: 1000 unidades\n",
      "tv samsung: 1000 unidades\n",
      "ps5: 1000 unidades\n",
      "notebook dell: 1000 unidades\n"
     ]
    }
   ],
   "source": [
    "for produto, qtd in vendas_tecnologia.items():\n",
    "    if qtd > 5000:\n",
    "        print(f\"{produto}: {vendas_tecnologia[chave]} unidades\")"
   ]
  },
  {
   "cell_type": "code",
   "execution_count": 16,
   "metadata": {},
   "outputs": [
    {
     "name": "stdout",
     "output_type": "stream",
     "text": [
      "dict_keys(['notebook asus', 'iphone', 'samsung galaxy', 'tv samsung', 'ps5', 'tablet', 'notebook dell', 'ipad', 'tv philco', 'notebook hp', 'iphonegab'])\n",
      "dict_values([2450, 15000, 12000, 10000, 14300, 1720, 17000, 1000, 2500, 1000, 10])\n"
     ]
    }
   ],
   "source": [
    "chaves = vendas_tecnologia.keys()\n",
    "valores = vendas_tecnologia.values()\n",
    "print(chaves)\n",
    "print(valores)"
   ]
  },
  {
   "cell_type": "code",
   "execution_count": 17,
   "metadata": {},
   "outputs": [
    {
     "name": "stdout",
     "output_type": "stream",
     "text": [
      "dict_keys(['notebook asus', 'iphone', 'samsung galaxy', 'tv samsung', 'ps5', 'tablet', 'notebook dell', 'ipad', 'tv philco', 'notebook hp', 'iphonegab'])\n",
      "dict_values([2450, 15000, 12000, 10000, 14300, 1720, 17000, 1000, 2500, 1000, 10])\n"
     ]
    }
   ],
   "source": [
    "vendas_tecnologia['iphonegab'] = 10\n",
    "print(chaves)\n",
    "print(valores)"
   ]
  },
  {
   "cell_type": "code",
   "execution_count": 19,
   "metadata": {},
   "outputs": [
    {
     "name": "stdout",
     "output_type": "stream",
     "text": [
      "['notebook asus', 'iphone', 'samsung galaxy', 'tv samsung', 'ps5', 'tablet', 'notebook dell', 'ipad', 'tv philco', 'notebook hp', 'iphonegab']\n",
      "[2450, 15000, 12000, 10000, 14300, 1720, 17000, 1000, 2500, 1000, 10]\n"
     ]
    }
   ],
   "source": [
    "print(list(chaves))\n",
    "print(list(valores))"
   ]
  },
  {
   "cell_type": "code",
   "execution_count": 24,
   "metadata": {},
   "outputs": [
    {
     "name": "stdout",
     "output_type": "stream",
     "text": [
      "notebook asus: 10000 unidades\n",
      "iphone: 10000 unidades\n",
      "samsung galaxy: 10000 unidades\n",
      "tv samsung: 10000 unidades\n",
      "ps5: 10000 unidades\n",
      "tablet: 10000 unidades\n",
      "notebook dell: 10000 unidades\n",
      "ipad: 10000 unidades\n",
      "tv philco: 10000 unidades\n",
      "notebook hp: 10000 unidades\n",
      "iphonegab: 10000 unidades\n",
      "----------------------------------------\n",
      "ipad: 1000 unidades\n",
      "iphone: 15000 unidades\n",
      "iphonegab: 10 unidades\n",
      "notebook asus: 2450 unidades\n",
      "notebook dell: 17000 unidades\n",
      "notebook hp: 1000 unidades\n",
      "ps5: 14300 unidades\n",
      "samsung galaxy: 12000 unidades\n",
      "tablet: 1720 unidades\n",
      "tv philco: 2500 unidades\n",
      "tv samsung: 10000 unidades\n"
     ]
    }
   ],
   "source": [
    "for produto, qtd in vendas_tecnologia.items():\n",
    "    print(f\"{produto}: {vendas_tecnologia[chave]} unidades\")\n",
    "print(\"-\" * 40)\n",
    "\n",
    "lista_chave = list(chaves)\n",
    "lista_chave.sort()\n",
    "\n",
    "for chave in lista_chave:\n",
    "    print(f\"{chave}: {vendas_tecnologia[chave]} unidades\")"
   ]
  }
 ],
 "metadata": {
  "interpreter": {
   "hash": "ad2bdc8ecc057115af97d19610ffacc2b4e99fae6737bb82f5d7fb13d2f2c186"
  },
  "kernelspec": {
   "display_name": "Python 3.9.7",
   "language": "python",
   "name": "python3"
  },
  "language_info": {
   "codemirror_mode": {
    "name": "ipython",
    "version": 3
   },
   "file_extension": ".py",
   "mimetype": "text/x-python",
   "name": "python",
   "nbconvert_exporter": "python",
   "pygments_lexer": "ipython3",
   "version": "3.9.7"
  },
  "orig_nbformat": 4
 },
 "nbformat": 4,
 "nbformat_minor": 2
}
