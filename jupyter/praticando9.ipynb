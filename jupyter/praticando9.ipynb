{
 "cells": [
  {
   "cell_type": "code",
   "execution_count": 2,
   "metadata": {},
   "outputs": [],
   "source": [
    "prd = ['apple tv','apple watch','iphone x','imac','ipad','mac book']\n",
    "novo_prd = ['ioculos', 'iphone 13 pro max']"
   ]
  },
  {
   "cell_type": "code",
   "execution_count": 7,
   "metadata": {},
   "outputs": [],
   "source": [
    "vendas = [112, 333, 3413, 11, 4535, 13134, 43]"
   ]
  },
  {
   "cell_type": "code",
   "execution_count": 4,
   "metadata": {},
   "outputs": [
    {
     "name": "stdout",
     "output_type": "stream",
     "text": [
      "['apple tv', 'apple watch', 'iphone x', 'imac', 'ipad', 'mac book', 'ioculos', 'iphone 13 pro max', 'ioculos', 'iphone 13 pro max']\n"
     ]
    }
   ],
   "source": [
    "todos_prd = prd + novo_prd\n",
    "print(todos_prd)"
   ]
  },
  {
   "cell_type": "code",
   "execution_count": 3,
   "metadata": {},
   "outputs": [
    {
     "name": "stdout",
     "output_type": "stream",
     "text": [
      "['apple tv', 'apple watch', 'iphone x', 'imac', 'ipad', 'mac book', 'ioculos', 'iphone 13 pro max']\n"
     ]
    }
   ],
   "source": [
    "prd.extend(novo_prd)\n",
    "print(prd)"
   ]
  },
  {
   "cell_type": "code",
   "execution_count": 6,
   "metadata": {},
   "outputs": [
    {
     "name": "stdout",
     "output_type": "stream",
     "text": [
      "['apple tv', 'apple watch', 'imac', 'ioculos', 'ipad', 'iphone 13 pro max', 'iphone x', 'mac book']\n"
     ]
    }
   ],
   "source": [
    "prd.sort()\n",
    "print(prd)"
   ]
  },
  {
   "cell_type": "code",
   "execution_count": 9,
   "metadata": {},
   "outputs": [
    {
     "name": "stdout",
     "output_type": "stream",
     "text": [
      "[13134, 4535, 3413, 333, 112, 43, 11]\n",
      "[11, 43, 112, 333, 3413, 4535, 13134]\n"
     ]
    }
   ],
   "source": [
    "vendas.sort(reverse=True)\n",
    "print(vendas)\n",
    "vendas.sort(reverse=False)\n",
    "print(vendas)"
   ]
  },
  {
   "cell_type": "code",
   "execution_count": 11,
   "metadata": {},
   "outputs": [
    {
     "name": "stdout",
     "output_type": "stream",
     "text": [
      "Here is the original list:\n",
      "['bmw', 'audi', 'toyota', 'subaru']\n",
      "\n",
      "Here is the sorted list:\n",
      "['audi', 'bmw', 'subaru', 'toyota']\n",
      "\n",
      "Here is the original list again:\n",
      "['bmw', 'audi', 'toyota', 'subaru']\n"
     ]
    }
   ],
   "source": [
    "#Ordenando uma lista temporariamente com a função sorted()\n",
    "\n",
    "cars = ['bmw', 'audi', 'toyota', 'subaru']\n",
    "\n",
    "\n",
    "\n",
    "print(\"Here is the original list:\")\n",
    "\n",
    "print(cars)\n",
    "\n",
    "\n",
    "\n",
    "print(\"\\nHere is the sorted list:\")\n",
    "\n",
    "print(sorted(cars))\n",
    "\n",
    "\n",
    "print(\"\\nHere is the original list again:\")\n",
    "\n",
    "print(cars)\n"
   ]
  }
 ],
 "metadata": {
  "interpreter": {
   "hash": "ad2bdc8ecc057115af97d19610ffacc2b4e99fae6737bb82f5d7fb13d2f2c186"
  },
  "kernelspec": {
   "display_name": "Python 3.9.7",
   "language": "python",
   "name": "python3"
  },
  "language_info": {
   "codemirror_mode": {
    "name": "ipython",
    "version": 3
   },
   "file_extension": ".py",
   "mimetype": "text/x-python",
   "name": "python",
   "nbconvert_exporter": "python",
   "pygments_lexer": "ipython3",
   "version": "3.9.7"
  },
  "orig_nbformat": 4
 },
 "nbformat": 4,
 "nbformat_minor": 2
}
