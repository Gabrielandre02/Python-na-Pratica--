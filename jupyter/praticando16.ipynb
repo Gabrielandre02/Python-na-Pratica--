{
 "cells": [
  {
   "cell_type": "code",
   "execution_count": 4,
   "metadata": {},
   "outputs": [
    {
     "name": "stdout",
     "output_type": "stream",
     "text": [
      "Registro Finalizado. os produtos foram: ['arroz']\n"
     ]
    }
   ],
   "source": [
    "venda = input('Registre um produto. para cancelaro registro de um novo produto, basta apertar enter com a caixa vazia')\n",
    "vendas = []\n",
    "\n",
    "while venda != '':\n",
    "    vendas.append(venda)\n",
    "    venda = input('Registre um produto. para cancelaro registro de um novo produto, basta apertar enter com a caixa vazia')\n",
    "\n",
    "print(f'Registro Finalizado. os produtos foram: {vendas}')"
   ]
  },
  {
   "cell_type": "code",
   "execution_count": 5,
   "metadata": {},
   "outputs": [],
   "source": [
    "vendas = [941, 852, 783, 714, 697, 686, 685, 670, 631, 453, 386, 371, 294, 269, 259, 218, 208, 163, 125, 102, 87, 47, 7]\n",
    "vendedores = ['Maria', 'José', 'Antônio', 'chaves', 'Francisco', 'Ana', 'Luiz', 'Paulo', 'Carlos', 'Manoel', 'Pedro', 'Francisca', 'Marcos', 'Raimundo', 'Sebastião', 'Antônia', 'Marcelo', 'Jorge', 'Márcia', 'Geraldo', 'Adriana', 'Sandra', 'Luis']\n",
    "meta = 50"
   ]
  },
  {
   "cell_type": "code",
   "execution_count": 14,
   "metadata": {},
   "outputs": [
    {
     "name": "stdout",
     "output_type": "stream",
     "text": [
      "Maria bateu a meta. Vendas : 941\n",
      "José bateu a meta. Vendas : 852\n",
      "Antônio bateu a meta. Vendas : 783\n",
      "chaves bateu a meta. Vendas : 714\n",
      "Francisco bateu a meta. Vendas : 697\n",
      "Ana bateu a meta. Vendas : 686\n",
      "Luiz bateu a meta. Vendas : 685\n",
      "Paulo bateu a meta. Vendas : 670\n",
      "Carlos bateu a meta. Vendas : 631\n",
      "Manoel bateu a meta. Vendas : 453\n",
      "Pedro bateu a meta. Vendas : 386\n",
      "Francisca bateu a meta. Vendas : 371\n",
      "Marcos bateu a meta. Vendas : 294\n",
      "Raimundo bateu a meta. Vendas : 269\n",
      "Sebastião bateu a meta. Vendas : 259\n",
      "Antônia bateu a meta. Vendas : 218\n",
      "Marcelo bateu a meta. Vendas : 208\n",
      "Jorge bateu a meta. Vendas : 163\n",
      "Márcia bateu a meta. Vendas : 125\n",
      "Geraldo bateu a meta. Vendas : 102\n",
      "Adriana bateu a meta. Vendas : 87\n"
     ]
    }
   ],
   "source": [
    "i = 0\n",
    "\n",
    "while vendas[i] > meta:\n",
    "    print(f\"{vendedores[i]} bateu a meta. Vendas : {vendas[i]}\")\n",
    "    i += 1"
   ]
  }
 ],
 "metadata": {
  "interpreter": {
   "hash": "ad2bdc8ecc057115af97d19610ffacc2b4e99fae6737bb82f5d7fb13d2f2c186"
  },
  "kernelspec": {
   "display_name": "Python 3.9.7",
   "language": "python",
   "name": "python3"
  },
  "language_info": {
   "codemirror_mode": {
    "name": "ipython",
    "version": 3
   },
   "file_extension": ".py",
   "mimetype": "text/x-python",
   "name": "python",
   "nbconvert_exporter": "python",
   "pygments_lexer": "ipython3",
   "version": "3.9.7"
  },
  "orig_nbformat": 4
 },
 "nbformat": 4,
 "nbformat_minor": 2
}
