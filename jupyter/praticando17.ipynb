{
 "cells": [
  {
   "cell_type": "code",
   "execution_count": 9,
   "metadata": {},
   "outputs": [],
   "source": [
    "vendas = ('Gabriel Andre', '02/11/1997', 2500, 'analista de OSS')"
   ]
  },
  {
   "cell_type": "code",
   "execution_count": 12,
   "metadata": {},
   "outputs": [
    {
     "name": "stdout",
     "output_type": "stream",
     "text": [
      "O novo funcionario Gabriel Andre nasceu na data de 02/11/1997 e foi contratado como analista de OSS com um salario 2500\n"
     ]
    }
   ],
   "source": [
    "nome = vendas[0]\n",
    "data_na = vendas[1]\n",
    "salario = vendas[2]\n",
    "cargo = vendas[3]\n",
    "\n",
    "print(f\"O novo funcionario {nome} nasceu na data de {data_na} e foi contratado como {cargo} com um salario {salario}\")"
   ]
  },
  {
   "cell_type": "code",
   "execution_count": 13,
   "metadata": {},
   "outputs": [
    {
     "name": "stdout",
     "output_type": "stream",
     "text": [
      "O novo funcionario Gabriel Andre nasceu na data de 02/11/1997 e foi contratado como analista de OSS com um salario 2500\n"
     ]
    }
   ],
   "source": [
    "nome, data_na, salario, cargo = vendas\n",
    "\n",
    "print(f\"O novo funcionario {nome} nasceu na data de {data_na} e foi contratado como {cargo} com um salario {salario}\")"
   ]
  },
  {
   "cell_type": "code",
   "execution_count": 16,
   "metadata": {},
   "outputs": [
    {
     "name": "stdout",
     "output_type": "stream",
     "text": [
      "Andre vendeu 1000 unidades\n",
      "Fernando vendeu 2000 unidades\n",
      "Jose vendeu 400 unidades\n",
      "Carlos vendeu 700 unidades\n",
      "Gabriel vendeu 900 unidades\n"
     ]
    }
   ],
   "source": [
    "vendas = [1000, 2000, 400, 700, 900]\n",
    "fun = ['Andre', 'Fernando', 'Jose', 'Carlos', 'Gabriel']\n",
    "\n",
    "for i, venda in enumerate(vendas):\n",
    "    print(f'{fun[i]} vendeu {venda} unidades')"
   ]
  },
  {
   "cell_type": "code",
   "execution_count": 22,
   "metadata": {},
   "outputs": [],
   "source": [
    "vendas = [\n",
    "    ('20/08/2020', 'iphone x', 'azul', '128gb', 350, 4000),\n",
    "    ('20/08/2020', 'iphone x', 'prata', '128gb', 1500, 4000),\n",
    "    ('20/08/2020', 'ipad', 'prata', '256gb', 127, 6000),\n",
    "    ('20/08/2020', 'ipad', 'prata', '128gb', 981, 5000),\n",
    "    ('21/08/2020', 'iphone x', 'azul', '128gb', 397, 4000),\n",
    "    ('21/08/2020', 'iphone x', 'prata', '128gb', 1017, 4000),\n",
    "    ('21/08/2020', 'ipad', 'prata', '256gb', 50, 6000),\n",
    "    ('21/08/2020', 'ipad', 'prata', '128gb', 4000, 5000),\n",
    "]"
   ]
  },
  {
   "cell_type": "code",
   "execution_count": 21,
   "metadata": {},
   "outputs": [
    {
     "name": "stdout",
     "output_type": "stream",
     "text": [
      "O faturamento de iphone no dia 20/08/2022 foi de R$7,400,000\n"
     ]
    }
   ],
   "source": [
    "fat = 0\n",
    "for data, produto, cor, capacidade, unidades, valor in vendas:\n",
    "    if produto == 'iphone x' and data == '20/08/2020':\n",
    "        fat += unidades * valor\n",
    "\n",
    "print(f\"O faturamento de iphone no dia 20/08/2022 foi de R${fat:,}\")"
   ]
  },
  {
   "cell_type": "code",
   "execution_count": 25,
   "metadata": {},
   "outputs": [
    {
     "name": "stdout",
     "output_type": "stream",
     "text": [
      "Meu produto mais vendido no dia 21/08/2020 foi o ipad na cor prata com a capacidade de 128gb, que vendeu um total de  4000\n"
     ]
    }
   ],
   "source": [
    "prd_mais = ''\n",
    "u_mais = 0\n",
    "cor_mais = ''\n",
    "cpd = ''\n",
    "\n",
    "for data, produto, cor, capacidade, unidades, valor in vendas:\n",
    "    if data == '21/08/2020':\n",
    "        if unidades > u_mais:\n",
    "            prd_mais = produto\n",
    "            u_mais = unidades\n",
    "            cor_mais = cor\n",
    "            cpd = capacidade\n",
    "\n",
    "print(f\"Meu produto mais vendido no dia 21/08/2020 foi o {prd_mais} na cor {cor} com a capacidade de {cpd}, que vendeu um total de  {u_mais}\")"
   ]
  }
 ],
 "metadata": {
  "interpreter": {
   "hash": "ad2bdc8ecc057115af97d19610ffacc2b4e99fae6737bb82f5d7fb13d2f2c186"
  },
  "kernelspec": {
   "display_name": "Python 3.9.7",
   "language": "python",
   "name": "python3"
  },
  "language_info": {
   "codemirror_mode": {
    "name": "ipython",
    "version": 3
   },
   "file_extension": ".py",
   "mimetype": "text/x-python",
   "name": "python",
   "nbconvert_exporter": "python",
   "pygments_lexer": "ipython3",
   "version": "3.9.7"
  },
  "orig_nbformat": 4
 },
 "nbformat": 4,
 "nbformat_minor": 2
}
