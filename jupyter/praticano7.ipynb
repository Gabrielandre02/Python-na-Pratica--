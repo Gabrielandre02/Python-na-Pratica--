{
 "cells": [
  {
   "cell_type": "code",
   "execution_count": 1,
   "metadata": {},
   "outputs": [
    {
     "name": "stdout",
     "output_type": "stream",
     "text": [
      "['tv', 'celular', 'mouse', 'placa de video']\n"
     ]
    }
   ],
   "source": [
    "produtos = ['tv',\n",
    "            'celular',\n",
    "            'mouse',\n",
    "            'placa de video']\n",
    "print(produtos)"
   ]
  },
  {
   "cell_type": "code",
   "execution_count": 2,
   "metadata": {},
   "outputs": [],
   "source": [
    "vendas = [1000, 5000, 4000, 13300]"
   ]
  },
  {
   "cell_type": "code",
   "execution_count": 7,
   "metadata": {},
   "outputs": [
    {
     "name": "stdout",
     "output_type": "stream",
     "text": [
      "Vendas do produto celular foram de 300 unidades\n"
     ]
    }
   ],
   "source": [
    "vendas[1] = 300\n",
    "print('Vendas do produto {} foram de {} unidades'.format(produtos[1], vendas[1]))"
   ]
  },
  {
   "cell_type": "code",
   "execution_count": 12,
   "metadata": {},
   "outputs": [
    {
     "name": "stdout",
     "output_type": "stream",
     "text": [
      "Gabrael@lave.com\n"
     ]
    }
   ],
   "source": [
    "texto = 'Gabriel@live.com'\n",
    "x = texto.replace('i', 'a')\n",
    "print(x)"
   ]
  },
  {
   "cell_type": "code",
   "execution_count": 13,
   "metadata": {},
   "outputs": [],
   "source": [
    "produtos = ['tv',\n",
    "            'celular',\n",
    "            'mouse',\n",
    "            'placa de video']\n",
    "vendas = [1000, 5000, 4000, 13300]"
   ]
  },
  {
   "cell_type": "code",
   "execution_count": 20,
   "metadata": {},
   "outputs": [
    {
     "name": "stdout",
     "output_type": "stream",
     "text": [
      "Quantidade em estoque do mouse e de :4000\n"
     ]
    }
   ],
   "source": [
    "i = produtos.index('mouse')\n",
    "qtd_estoque = vendas[i]\n",
    "print(\"Quantidade em estoque do mouse e de :{}\".format(qtd_estoque))"
   ]
  },
  {
   "cell_type": "code",
   "execution_count": 25,
   "metadata": {},
   "outputs": [
    {
     "name": "stdout",
     "output_type": "stream",
     "text": [
      "Temos 4000 unidade de mouse no estoque\n",
      "2\n"
     ]
    }
   ],
   "source": [
    "produto = input(\"Ensira o nome do produto :\")\n",
    "if produto in produtos:\n",
    "    i = produtos.index(produto)\n",
    "    qtd_estoque = vendas[i]\n",
    "    print(\"Temos {} unidade de {} no estoque\".format(qtd_estoque, produto))\n",
    "else:\n",
    "    print('{} nao existe no estoque'.format(produto))"
   ]
  }
 ],
 "metadata": {
  "interpreter": {
   "hash": "ad2bdc8ecc057115af97d19610ffacc2b4e99fae6737bb82f5d7fb13d2f2c186"
  },
  "kernelspec": {
   "display_name": "Python 3.9.7",
   "language": "python",
   "name": "python3"
  },
  "language_info": {
   "codemirror_mode": {
    "name": "ipython",
    "version": 3
   },
   "file_extension": ".py",
   "mimetype": "text/x-python",
   "name": "python",
   "nbconvert_exporter": "python",
   "pygments_lexer": "ipython3",
   "version": "3.9.7"
  },
  "orig_nbformat": 4
 },
 "nbformat": 4,
 "nbformat_minor": 2
}
