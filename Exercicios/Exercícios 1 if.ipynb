{
 "cells": [
  {
   "cell_type": "markdown",
   "metadata": {},
   "source": [
    "# Exercícios"
   ]
  },
  {
   "cell_type": "markdown",
   "metadata": {},
   "source": [
    "## 1. Criando um mini sistema de controle de estoque\n",
    "\n",
    "- Crie um sistema para ser usado pelo time de controle de estoque de um centro de distribuição.\n",
    "- Imagine que ao fim de todo dia, o time conta quantas unidades de produto existem no estoque. Se tivermos um estoque abaixo do estoque permitido para aquela categoria do produto, o time deve ser avisado (print) para fazer um novo pedido daquele produto.\n",
    "- Cada categoria de produto tem um estoque mínimo diferente, segundo a regra abaixo:\n",
    "\n",
    "- alimentos -> Estoque mínimo: 50\n",
    "- bebidas -> Estoque mínimo: 75\n",
    "- limpeza -> Estoque mínimo: 30\n",
    "\n",
    "Para isso vamos criar um programa que pede 3 inputs do usuário: nome do produto, categoria e quantidade atual em estoque.\n",
    "\n",
    "Se o produto tiver abaixo do estoque mínimo da categoria dele, o programa deve printar a mensagem \"Solicitar {produto} à equipe de compras, temos apenas {unidades} em estoque\"\n",
    "\n",
    "Exemplo: Se o usuário preenche os inputs com: bebidas, dolly, 90, o programa não deve exibir nenhuma mensagem.<br>\n",
    "Agora, se o usuário preenche os inputs com: bebidas, guaraná, 60, o programa deve exibir a mensagem \"Solicitar guaraná à equipe de compras, temos apenas 60 unidades em estoque.\n",
    "\n",
    "Obs: lembre de usar o int() para transformar o número inserido pelo usuário no input de string para int.<br>\n",
    "Obs2: Caso o usuário não preencha alguma das 3 informações, o programa deve exibir uma mensagem para avisá-lo de preencher corretamente."
   ]
  },
  {
   "cell_type": "code",
   "execution_count": 90,
   "metadata": {},
   "outputs": [
    {
     "name": "stdout",
     "output_type": "stream",
     "text": [
      "| ____________________ |\n",
      "         MENU\n",
      "| ____________________ |\n",
      "1 - Cadrastrar um novo produto:\n",
      "2 - verifica o estoque minimo:\n",
      "3 - Sair\n",
      "Temos 21 coca, sendo que o minino e 50\n"
     ]
    }
   ],
   "source": [
    "def valida_int(pergunta, min, max):\n",
    "    x = int(input(pergunta))\n",
    "    while ((x < min) or (x > max)):\n",
    "        x = int(input(pergunta))\n",
    "    return x\n",
    "\n",
    "\n",
    "def menu():\n",
    "    print('|','__'* 10,'|') \n",
    "    print('         MENU')\n",
    "    print('|','__'* 10,'|')\n",
    "    print('1 - Cadrastrar um novo produto:')\n",
    "    print('2 - verifica o estoque minimo:')\n",
    "    print('3 - Sair')\n",
    "\n",
    "menu()\n",
    "alimento = 50\n",
    "bebida = 75\n",
    "limpeza1 = 30\n",
    "\n",
    "opcao = valida_int('Digite a opção desejada :', 1, 3)\n",
    "\n",
    "while opcao == 1:\n",
    "    nome = input(\"Digite o nome do produto\")\n",
    "    ca1 = input('Qual categoria deseja cadrastrar')\n",
    "    while ca1 == 'bebidas':\n",
    "        qtd = int(input('Qual a quantidade de produtos ?'))\n",
    "        if qtd < 75:\n",
    "            print(f\"Temos {qtd} {nome}, sendo que o minino da categoria bebidas e: {bebida}\")\n",
    "            break\n",
    "    while ca1 == 'alimentos':    \n",
    "        qtd = int(input('Qual a quantidade de produtos ?'))\n",
    "        if qtd < 50:\n",
    "            print(f\"Temos {qtd} {nome}, sendo que o minino da categoria alimentos e: {alimento}\")\n",
    "            break\n",
    "    while ca1 == 'limpeza':    \n",
    "        qtd = int(input('Qual a quantidade de produtos ?'))\n",
    "        if qtd < 30:\n",
    "            print(f\"Temos {qtd}  {nome}, sendo que o minino da categoria limpeza e : {limpeza1}\")\n",
    "            break\n",
    "    break\n",
    "while opcao == 2:\n",
    "    print(f\"Para a categoria de alimentos temos como estoque minimo {alimento};\\nJa na categoria de bebidas\\\n",
    " o estoque minimo e {bebida};\\nE na categoria de limpeza o estoque minimo e {limpeza1}\")\n",
    "    break\n",
    "\n",
    "while opcao == 3:\n",
    "    print(\"Saindo...\")\n",
    "    break\n",
    "\n"
   ]
  }
 ],
 "metadata": {
  "interpreter": {
   "hash": "ad2bdc8ecc057115af97d19610ffacc2b4e99fae6737bb82f5d7fb13d2f2c186"
  },
  "kernelspec": {
   "display_name": "Python 3.9.7",
   "language": "python",
   "name": "python3"
  },
  "language_info": {
   "codemirror_mode": {
    "name": "ipython",
    "version": 3
   },
   "file_extension": ".py",
   "mimetype": "text/x-python",
   "name": "python",
   "nbconvert_exporter": "python",
   "pygments_lexer": "ipython3",
   "version": "3.9.7"
  }
 },
 "nbformat": 4,
 "nbformat_minor": 4
}
