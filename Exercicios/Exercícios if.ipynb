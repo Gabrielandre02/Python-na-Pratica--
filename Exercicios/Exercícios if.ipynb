{
 "cells": [
  {
   "cell_type": "markdown",
   "metadata": {},
   "source": [
    "# Exercícios com if"
   ]
  },
  {
   "cell_type": "markdown",
   "metadata": {},
   "source": [
    "## 1. Cálculo de Bônus\n",
    "\n",
    "- Crie um programa que calcule e dê um print no bônus que os funcionários devem receber segundo a regra:\n",
    "\n",
    "A meta é 1000 vendas.<br> \n",
    "Se o valor de vendas for maior ou igual a meta, o valor do bônus do funcionário é 10% do valor de vendas.<br>\n",
    "Caso contrário o valor de bônus do funcionário é 0.<br>\n",
    "Print o bônus dos 3 funcionários"
   ]
  },
  {
   "cell_type": "code",
   "execution_count": 10,
   "metadata": {},
   "outputs": [
    {
     "name": "stdout",
     "output_type": "stream",
     "text": [
      "O Bonus do funcionario 1 foi de 100.0\n",
      "O funcionario2 nao ganhou nada\n",
      "O Bonus do funcionario 3 foi de 270.0\n"
     ]
    }
   ],
   "source": [
    "vendas_funcionario1 = 1000\n",
    "vendas_funcionario2 = 770\n",
    "vendas_funcionario3 = 2700\n",
    "\n",
    "meta = 1000\n",
    "bonus = 0.10\n",
    "\n",
    "if meta:\n",
    "    if vendas_funcionario1 >= meta:\n",
    "        total = vendas_funcionario1 * bonus\n",
    "        print(f\"O Bonus do funcionario 1 foi de {total}\")\n",
    "    else:\n",
    "        print('O funcionario1 nao ganhou nada')\n",
    "    if vendas_funcionario2 >= meta:\n",
    "        total = vendas_funcionario2 * bonus\n",
    "        print(f\"O Bonus do funcionario 2 foi de {total}\")\n",
    "    else:\n",
    "        print('O funcionario2 nao ganhou nada')\n",
    "    if vendas_funcionario3 >= meta:\n",
    "        total = vendas_funcionario3 * bonus\n",
    "        print(f\"O Bonus do funcionario 3 foi de {total}\")\n",
    "    else:\n",
    "        print('O funcionario3 nao ganhou nada de bonus')\n",
    "else:\n",
    "    pass"
   ]
  },
  {
   "cell_type": "markdown",
   "metadata": {},
   "source": [
    "## 2. Cálculo de bônus com uma nova regra\n",
    "\n",
    "- Agora, crie um novo código que calcule e dê um print no bônus dos funcionários novamente. Porém há uma nova regra nesse 2º caso:\n",
    "\n",
    "A meta é 1000 vendas<br>\n",
    "Agora, os funcionários que venderem muito acima da meta ganham mais bônus do que os outros. Então o bônus é definido da seguinte forma:<br>\n",
    "\n",
    "- Se vendas funcionário for maior ou igual a 2000, então o bônus é de 15% sobre o valor de vendas\n",
    "- Se vendas funcionário for menor do que 2000 e maior ou igual a 1000, então o bônus é de 10% sobre o valor de vendas\n",
    "- Se vendas funcionário for menos do que 1000 então o bônus do funcionário é de 0.\n",
    "\n",
    "Use as mesmas variáveis de vendas_funcionários"
   ]
  },
  {
   "cell_type": "code",
   "execution_count": 21,
   "metadata": {},
   "outputs": [
    {
     "name": "stdout",
     "output_type": "stream",
     "text": [
      "O bonus do funcionario foi de 100.0\n",
      "O bonus do funcionario e zero\n",
      "O Bonus do funcionario foi de 405.0\n"
     ]
    }
   ],
   "source": [
    "vendas_funcionario1 = 1000\n",
    "vendas_funcionario2 = 770\n",
    "vendas_funcionario3 = 2700\n",
    "\n",
    "\n",
    "\n",
    "if vendas_funcionario1 >= 2000:\n",
    "    bonus = 0.15 * vendas_funcionario1\n",
    "    print(f\"O Bonus do funcionario foi de {bonus}\")\n",
    "elif vendas_funcionario1 < 2000 and vendas_funcionario1 >= 1000:\n",
    "    bonus = 0.10 * vendas_funcionario1\n",
    "    print(f\"O bonus do funcionario foi de {bonus}\")\n",
    "else:\n",
    "    print(\"O bonus do funcionario e zero\")\n",
    "\n",
    "\n",
    "if vendas_funcionario2 >= 2000:\n",
    "    bonus = 0.15 * vendas_funcionario2\n",
    "    print(f\"O Bonus do funcionario foi de {bonus}\")\n",
    "elif vendas_funcionario2 < 2000 and vendas_funcionario2 >= 1000:\n",
    "    bonus = 0.10 * vendas_funcionario2\n",
    "    print(f\"O bonus do funcionario foi de {bonus}\")\n",
    "else:\n",
    "    print(\"O bonus do funcionario e zero\")\n",
    "\n",
    "\n",
    "if vendas_funcionario3 >= 2000:\n",
    "    bonus = 0.15 * vendas_funcionario3\n",
    "    print(f\"O Bonus do funcionario foi de {bonus}\")\n",
    "elif vendas_funcionario3 < 2000 and vendas_funcionario3 >= 1000:\n",
    "    bonus = 0.10 * vendas_funcionario3\n",
    "    print(f\"O bonus do funcionario foi de {bonus}\")\n",
    "else:\n",
    "    print(\"O bonus do funcionario e zero\")"
   ]
  }
 ],
 "metadata": {
  "interpreter": {
   "hash": "a02c5d3f266f8ea9d2e9358e355e19b4a758d9a9696d77ec6fd0919dea87b478"
  },
  "kernelspec": {
   "display_name": "Python 3.9.7 ('base')",
   "language": "python",
   "name": "python3"
  },
  "language_info": {
   "codemirror_mode": {
    "name": "ipython",
    "version": 3
   },
   "file_extension": ".py",
   "mimetype": "text/x-python",
   "name": "python",
   "nbconvert_exporter": "python",
   "pygments_lexer": "ipython3",
   "version": "3.9.7"
  }
 },
 "nbformat": 4,
 "nbformat_minor": 4
}
