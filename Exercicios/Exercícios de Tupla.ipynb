{
 "cells": [
  {
   "cell_type": "markdown",
   "metadata": {},
   "source": [
    "# Exercícios\n",
    "\n",
    "São exercícios bem parecidos com os que fizemos com listas. Mas na tupla, podemos não só trabalhar com índices, mas fazer o \"unpacking\" das tuplas, o que pode facilitar nossos códigos.\n",
    "\n",
    "## 1. Análise de Vendas\n",
    "\n",
    "Nesse exercício vamos fazer uma \"análise simples\" de atingimento de Meta.\n",
    "\n",
    "Temos uma lista com os vendedores e os valores de vendas e queremos identificar (printar) quais os vendedores que bateram a meta e qual foi o valor que eles venderam."
   ]
  },
  {
   "cell_type": "code",
   "execution_count": 1,
   "metadata": {},
   "outputs": [],
   "source": [
    "meta = 10000\n",
    "vendas = [\n",
    "    ('João', 15000),\n",
    "    ('Julia', 27000),\n",
    "    ('Marcus', 9900),\n",
    "    ('Maria', 3750),\n",
    "    ('Ana', 10300),\n",
    "    ('Alon', 7870),\n",
    "]"
   ]
  },
  {
   "cell_type": "code",
   "execution_count": 5,
   "metadata": {},
   "outputs": [
    {
     "name": "stdout",
     "output_type": "stream",
     "text": [
      "O vendedor João bateu a meta com um total de 15000\n",
      "O vendedor Julia bateu a meta com um total de 27000\n",
      "O vendedor Ana bateu a meta com um total de 10300\n"
     ]
    }
   ],
   "source": [
    "for vendedor, metas in vendas:\n",
    "    if metas >= meta:\n",
    "        print(f\"O vendedor {vendedor} bateu a meta com um total de {metas}\")"
   ]
  },
  {
   "cell_type": "markdown",
   "metadata": {},
   "source": [
    "## 2. Comparação com Ano Anterior\n",
    "\n",
    "Digamos que você está analisando as vendas de produtos de um ecommerce e quer identificar quais produtos tiveram no ano de 2020 mais vendas do que no ano de 2019, para reportar isso para a diretoria.\n",
    "\n",
    "Sua resposta pode ser um print de cada produto, qual foi a venda de 2019, a venda de 2020 e o % de crescimento de 2020 para 2019.\n",
    "\n",
    "Lembrando, para calcular o % de crescimento de um produto de um ano para o outro, podemos fazer: (vendas_produto2020/vendas_produto2019 - 1)\n",
    "\n",
    "A lógica da tupla é: (produto, vendas2019, vendas2020)"
   ]
  },
  {
   "cell_type": "code",
   "execution_count": 6,
   "metadata": {},
   "outputs": [],
   "source": [
    "vendas_produtos = [('iphone', 558147, 951642), ('galaxy', 712350, 244295), ('ipad', 573823, 26964), ('tv', 405252, 787604), ('máquina de café', 718654, 867660), ('kindle', 531580, 78830), ('geladeira', 973139, 710331), ('adega', 892292, 646016), ('notebook dell', 422760, 694913), ('notebook hp', 154753, 539704), ('notebook asus', 887061, 324831), ('microsoft surface', 438508, 667179), ('webcam', 237467, 295633), ('caixa de som', 489705, 725316), ('microfone', 328311, 644622), ('câmera canon', 591120, 994303)]\n"
   ]
  },
  {
   "cell_type": "code",
   "execution_count": 10,
   "metadata": {},
   "outputs": [
    {
     "name": "stdout",
     "output_type": "stream",
     "text": [
      "O produto iphone teve um total de vendas em 2020 de :'951642' e em 2019 um total de:'558147' , isso foi um aumento de  '70.5%'\n",
      "O produto tv teve um total de vendas em 2020 de :'787604' e em 2019 um total de:'405252' , isso foi um aumento de  '94.3%'\n",
      "O produto máquina de café teve um total de vendas em 2020 de :'867660' e em 2019 um total de:'718654' , isso foi um aumento de  '20.7%'\n",
      "O produto notebook dell teve um total de vendas em 2020 de :'694913' e em 2019 um total de:'422760' , isso foi um aumento de  '64.4%'\n",
      "O produto notebook hp teve um total de vendas em 2020 de :'539704' e em 2019 um total de:'154753' , isso foi um aumento de  '248.8%'\n",
      "O produto microsoft surface teve um total de vendas em 2020 de :'667179' e em 2019 um total de:'438508' , isso foi um aumento de  '52.1%'\n",
      "O produto webcam teve um total de vendas em 2020 de :'295633' e em 2019 um total de:'237467' , isso foi um aumento de  '24.5%'\n",
      "O produto caixa de som teve um total de vendas em 2020 de :'725316' e em 2019 um total de:'489705' , isso foi um aumento de  '48.1%'\n",
      "O produto microfone teve um total de vendas em 2020 de :'644622' e em 2019 um total de:'328311' , isso foi um aumento de  '96.3%'\n",
      "O produto câmera canon teve um total de vendas em 2020 de :'994303' e em 2019 um total de:'591120' , isso foi um aumento de  '68.2%'\n"
     ]
    }
   ],
   "source": [
    "for produto, venda2019, venda2020 in vendas_produtos:\n",
    "    if venda2020 > venda2019:\n",
    "        print(f\"O produto {produto} teve um total de vendas em 2020 de :'{venda2020}' e em 2019 um total de:'{venda2019}' , isso foi um aumento de  '{venda2020/venda2019 -1:.1%}\\\n",
    "'\")"
   ]
  }
 ],
 "metadata": {
  "interpreter": {
   "hash": "ad2bdc8ecc057115af97d19610ffacc2b4e99fae6737bb82f5d7fb13d2f2c186"
  },
  "kernelspec": {
   "display_name": "Python 3.9.7",
   "language": "python",
   "name": "python3"
  },
  "language_info": {
   "codemirror_mode": {
    "name": "ipython",
    "version": 3
   },
   "file_extension": ".py",
   "mimetype": "text/x-python",
   "name": "python",
   "nbconvert_exporter": "python",
   "pygments_lexer": "ipython3",
   "version": "3.9.7"
  }
 },
 "nbformat": 4,
 "nbformat_minor": 4
}
