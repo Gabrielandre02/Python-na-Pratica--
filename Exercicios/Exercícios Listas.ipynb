{
 "cells": [
  {
   "cell_type": "markdown",
   "metadata": {},
   "source": [
    "# Exercícios\n",
    "\n",
    "## 1. Faturamento do Melhor e do Pior Mês do Ano\n",
    "\n",
    "Qual foi o valor de vendas do melhor mês do Ano?\n",
    "E valor do pior mês do ano?"
   ]
  },
  {
   "cell_type": "code",
   "execution_count": 52,
   "metadata": {},
   "outputs": [],
   "source": [
    "meses = ['jan', 'fev', 'mar', 'abr', 'mai', 'jun', 'jul', 'ago', 'set', 'out', 'nov', 'dez']\n",
    "vendas_1sem = [25000, 29000, 22200, 17750, 15870, 19900]\n",
    "vendas_2sem = [19850, 20120, 17540, 15555, 49051, 9650]"
   ]
  },
  {
   "cell_type": "code",
   "execution_count": 53,
   "metadata": {},
   "outputs": [],
   "source": [
    "#juntar as duas lista de vendas\n",
    "todos = vendas_1sem + vendas_2sem\n",
    "total = sum(todos)\n",
    "#achar o maior e o menor valor\n",
    "maior = max(todos)\n",
    "menor = min(todos)\n",
    "\n",
    "todos = vendas_1sem + vendas_2sem\n",
    "i = todos.index(maior)\n",
    "a = todos.index(menor)\n",
    "maior_mes = meses[i]\n",
    "menor_mes = meses[a]"
   ]
  },
  {
   "cell_type": "markdown",
   "metadata": {},
   "source": [
    "## 2. Continuação\n",
    "\n",
    "Agora relacione as duas listas para printar 'O melhor mês do ano foi {} com {} vendas' e o mesmo para o pior mês do ano.\n",
    "\n",
    "Calcule também o faturamento total do Ano e quanto que o melhor mês representou do faturamento total.\n",
    "\n",
    "Obs: Para o faturamento total, pode usar a função sum(lista) que soma todos os itens de uma lista"
   ]
  },
  {
   "cell_type": "code",
   "execution_count": 43,
   "metadata": {},
   "outputs": [
    {
     "name": "stdout",
     "output_type": "stream",
     "text": [
      "O Mes com Maior valor foi nov com um total de 49051\n",
      "E o mes com menor menor valor foi dez com um total de 9650\n",
      "E o faturamento total do ano foi de R$261,486\n",
      "O melhor mes representou 18.8% das vendas do ano todo\n"
     ]
    }
   ],
   "source": [
    "print(f\"O Mes com Maior valor foi {maior_mes} com um total de {maior}\\\n",
    "\\nE o mes com menor menor valor foi {menor_mes} com um total de {menor}\")\n",
    "print(f\"E o faturamento total do ano foi de R${total:,}\")\n",
    "\n",
    "per = maior / total\n",
    "print(f\"O melhor mes representou {per:.1%} das vendas do ano todo\")"
   ]
  },
  {
   "cell_type": "markdown",
   "metadata": {},
   "source": [
    "## 3. Crie uma lista com o top 3 valores de vendas do ano (sem fazer \"no olho\")\n",
    "\n",
    "Dica: o método remove retira um item da lista."
   ]
  },
  {
   "cell_type": "code",
   "execution_count": 54,
   "metadata": {},
   "outputs": [
    {
     "name": "stdout",
     "output_type": "stream",
     "text": [
      "[49051, 29000, 25000]\n"
     ]
    }
   ],
   "source": [
    "top3 =[]\n",
    "\n",
    "maior_valor= max(todos)\n",
    "top3.append(maior_valor)\n",
    "todos.remove(maior_valor)\n",
    "\n",
    "maior_valor= max(todos)\n",
    "top3.append(maior_valor)\n",
    "todos.remove(maior_valor)\n",
    "\n",
    "maior_valor= max(todos)\n",
    "top3.append(maior_valor)\n",
    "todos.remove(maior_valor)\n",
    "\n",
    "print(top3)"
   ]
  }
 ],
 "metadata": {
  "interpreter": {
   "hash": "ad2bdc8ecc057115af97d19610ffacc2b4e99fae6737bb82f5d7fb13d2f2c186"
  },
  "kernelspec": {
   "display_name": "Python 3.9.7",
   "language": "python",
   "name": "python3"
  },
  "language_info": {
   "codemirror_mode": {
    "name": "ipython",
    "version": 3
   },
   "file_extension": ".py",
   "mimetype": "text/x-python",
   "name": "python",
   "nbconvert_exporter": "python",
   "pygments_lexer": "ipython3",
   "version": "3.9.7"
  }
 },
 "nbformat": 4,
 "nbformat_minor": 4
}
