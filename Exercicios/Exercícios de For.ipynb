{
 "cells": [
  {
   "cell_type": "markdown",
   "metadata": {},
   "source": [
    "# Exercícios\n",
    "\n",
    "## 1. Criando um Registro de Hóspedes\n",
    "\n",
    "Digamos que você está criando o sistema para registrar a chegada de hóspedes em um hotel. No hotel, os hóspedes podem ter quartos com 1, 2, 3 e 4 pessoas. Seu sistema deve conseguir:\n",
    "\n",
    "1. Identificar quantas pessoas o hóspede que acabou de chegar vai ter no quarto (perguntando por meio de input)\n",
    "2. De acordo com a quantidade de pessoas do hóspede, ele deve fazer um for para perguntar o cpf e o nome de cada pessoa, a fim de registrá-la no quarto (2 inputs para cada pessoa, 1 para o cpf e outro para o nome)\n",
    "3. O seu programa então deve gerar uma lista com todas as pessoas que ficarão no quarto em que cada item dessa lista é o nome da pessoa e o cpf da pessoa, assim:"
   ]
  },
  {
   "cell_type": "raw",
   "metadata": {},
   "source": [
    "quarto = [\n",
    "    ['João', 'cpf:00000000000'],\n",
    "    ['Julia', 'cpf:11111111111'],\n",
    "    ['Marcus', 'cpf:22222222222'],\n",
    "    ['Maria', 'cpf:33333333333'],\n",
    "]"
   ]
  },
  {
   "cell_type": "markdown",
   "metadata": {},
   "source": [
    "- Para simplificar, não vamos nos preocupar com possibilidades de \"tentar colocar mais de 1 hóspede, digitar o cpf errado, etc. Nosso objetivo é treinar a criação de uma rotina de cadastro"
   ]
  },
  {
   "cell_type": "code",
   "execution_count": 44,
   "metadata": {},
   "outputs": [
    {
     "name": "stdout",
     "output_type": "stream",
     "text": [
      "Bem vindo Ao nosso hotel!\n",
      "Hoje teremos 2 Hóspedes\n",
      "##################################################\n",
      "Nome:gabriel\n",
      "cpf:02287728694\n",
      "##################################################\n",
      "##################################################\n",
      "Nome:andre\n",
      "cpf:02287728694\n",
      "##################################################\n"
     ]
    }
   ],
   "source": [
    "qtd_pessoas = int(input(\"Qual a quantidade de pessoas que irao se hospedar?\"))\n",
    "quarto = []\n",
    "qtd = qtd_pessoas\n",
    "if qtd > 0:\n",
    "    for i in range(qtd):\n",
    "        nome = input(\"qual o nome do hospede?\")\n",
    "        cpf = input(\"Digite o CPF do hospede\")\n",
    "        if len(cpf) != 11:\n",
    "            (print(\"Digite o cpf corretamento.\"))\n",
    "            break\n",
    "        hospede = [nome, cpf]\n",
    "        quarto.append(hospede)\n",
    "    print(f'Bem vindo Ao nosso hotel!\\nHoje teremos {qtd_pessoas} Hóspedes')   \n",
    "    for quartos in quarto:\n",
    "        print('#' * 50)\n",
    "        print(f'Nome:{quartos[0]}\\ncpf:{quartos[1]}')\n",
    "        print('#' * 50)\n",
    "else:\n",
    "    print(\"Quantidade invalida, por favor insira novamente\")"
   ]
  },
  {
   "cell_type": "markdown",
   "metadata": {},
   "source": [
    "## 2. Análise de Vendas\n",
    "\n",
    "Nesse exercício vamos fazer uma \"análise simples\" de atingimento de Meta.\n",
    "\n",
    "Temos uma lista com os vendedores e os valores de vendas e queremos identificar (printar) quais os vendedores que bateram a meta e qual foi o valor que eles venderam."
   ]
  },
  {
   "cell_type": "code",
   "execution_count": 5,
   "metadata": {},
   "outputs": [
    {
     "name": "stdout",
     "output_type": "stream",
     "text": [
      "Vendedor João bateu a meta. Fez 15000 vendas\n",
      "Vendedor Julia bateu a meta. Fez 27000 vendas\n",
      "Vendedor Ana bateu a meta. Fez 10300 vendas\n"
     ]
    }
   ],
   "source": [
    "meta = 10000\n",
    "vendas = [\n",
    "    ['João', 15000],\n",
    "    ['Julia', 27000],\n",
    "    ['Marcus', 9900],\n",
    "    ['Maria', 3750],\n",
    "    ['Ana', 10300],\n",
    "    ['Alon', 7870],\n",
    "]\n",
    "\n",
    "for venda in vendas:\n",
    "    if venda[1] >= meta:\n",
    "        print(f'Vendedor {venda[0]} bateu a meta. Fez {venda[1]} vendas')"
   ]
  },
  {
   "cell_type": "markdown",
   "metadata": {},
   "source": [
    "## 3. Comparação com Ano Anterior\n",
    "\n",
    "Digamos que você está analisando as vendas de produtos de um ecommerce e quer identificar quais produtos tiveram no ano de 2020 mais vendas do que no ano de 2019, para reportar isso para a diretoria.\n",
    "\n",
    "Sua resposta pode ser um print de cada produto, qual foi a venda de 2019, a venda de 2020 e o % de crescimento de 2020 para 2019.\n",
    "\n",
    "Lembrando, para calcular o % de crescimento de um produto de um ano para o outro, podemos fazer: (vendas_produto2020/vendas_produto2019 - 1)\n",
    "\n",
    "Dica: lembre do enumerate, ele pode facilitar seu \"for\""
   ]
  },
  {
   "cell_type": "code",
   "execution_count": 32,
   "metadata": {},
   "outputs": [
    {
     "name": "stdout",
     "output_type": "stream",
     "text": [
      "O produto 'iphone', vendeu em 2019 R$'558,147', mas no ano de 2020 teve um aumento 70.5%vendendo um total de R$'951,642'\n",
      "O produto 'tv', vendeu em 2019 R$'405,252', mas no ano de 2020 teve um aumento 94.3%vendendo um total de R$'787,604'\n",
      "O produto 'máquina de café', vendeu em 2019 R$'718,654', mas no ano de 2020 teve um aumento 20.7%vendendo um total de R$'867,660'\n",
      "O produto 'notebook dell', vendeu em 2019 R$'422,760', mas no ano de 2020 teve um aumento 64.4%vendendo um total de R$'694,913'\n",
      "O produto 'notebook hp', vendeu em 2019 R$'154,753', mas no ano de 2020 teve um aumento 248.8%vendendo um total de R$'539,704'\n",
      "O produto 'microsoft surface', vendeu em 2019 R$'438,508', mas no ano de 2020 teve um aumento 52.1%vendendo um total de R$'667,179'\n",
      "O produto 'webcam', vendeu em 2019 R$'237,467', mas no ano de 2020 teve um aumento 24.5%vendendo um total de R$'295,633'\n",
      "O produto 'caixa de som', vendeu em 2019 R$'489,705', mas no ano de 2020 teve um aumento 48.1%vendendo um total de R$'725,316'\n",
      "O produto 'microfone', vendeu em 2019 R$'328,311', mas no ano de 2020 teve um aumento 96.3%vendendo um total de R$'644,622'\n",
      "O produto 'câmera canon', vendeu em 2019 R$'591,120', mas no ano de 2020 teve um aumento 68.2%vendendo um total de R$'994,303'\n"
     ]
    }
   ],
   "source": [
    "produtos = ['iphone', 'galaxy', 'ipad', 'tv', 'máquina de café', 'kindle', 'geladeira', 'adega', 'notebook dell', 'notebook hp', 'notebook asus', 'microsoft surface', 'webcam', 'caixa de som', 'microfone', 'câmera canon']\n",
    "vendas2019 = [558147,712350,573823,405252,718654,531580,973139,892292,422760,154753,887061,438508,237467,489705,328311,591120]\n",
    "vendas2020 = [951642,244295,26964,787604,867660,78830,710331,646016,694913,539704,324831,667179,295633,725316,644622,994303]\n",
    "\n",
    "for i, venda2020 in enumerate(vendas2020):\n",
    "    valor = vendas2019[i]\n",
    "    if venda2020 > valor:\n",
    "        prt = venda2020 / vendas2019[i] - 1\n",
    "        print(f\"O produto '{produtos[i]}', vendeu em 2019 R$'{vendas2019[i]:,}',\\\n",
    " mas no ano de 2020 teve um aumento {prt:.1%}vendendo um total de R$'{venda2020:,}'\")"
   ]
  },
  {
   "cell_type": "code",
   "execution_count": 33,
   "metadata": {},
   "outputs": [
    {
     "name": "stdout",
     "output_type": "stream",
     "text": [
      "O produto 'iphone', vendeu em 2019 R$'558,147', mas no ano de 2020 teve um aumento 70.50% vendendo um total de R$'951,642'\n",
      "O produto 'tv', vendeu em 2019 R$'405,252', mas no ano de 2020 teve um aumento 94.35% vendendo um total de R$'787,604'\n",
      "O produto 'máquina de café', vendeu em 2019 R$'718,654', mas no ano de 2020 teve um aumento 20.73% vendendo um total de R$'867,660'\n",
      "O produto 'notebook dell', vendeu em 2019 R$'422,760', mas no ano de 2020 teve um aumento 64.38% vendendo um total de R$'694,913'\n",
      "O produto 'notebook hp', vendeu em 2019 R$'154,753', mas no ano de 2020 teve um aumento 248.75% vendendo um total de R$'539,704'\n",
      "O produto 'microsoft surface', vendeu em 2019 R$'438,508', mas no ano de 2020 teve um aumento 52.15% vendendo um total de R$'667,179'\n",
      "O produto 'webcam', vendeu em 2019 R$'237,467', mas no ano de 2020 teve um aumento 24.49% vendendo um total de R$'295,633'\n",
      "O produto 'caixa de som', vendeu em 2019 R$'489,705', mas no ano de 2020 teve um aumento 48.11% vendendo um total de R$'725,316'\n",
      "O produto 'microfone', vendeu em 2019 R$'328,311', mas no ano de 2020 teve um aumento 96.34% vendendo um total de R$'644,622'\n",
      "O produto 'câmera canon', vendeu em 2019 R$'591,120', mas no ano de 2020 teve um aumento 68.21% vendendo um total de R$'994,303'\n"
     ]
    }
   ],
   "source": [
    "for i, produto in enumerate(produtos):\n",
    "    if vendas2020[i] > vendas2019[i]:\n",
    "        prt = vendas2020[i] / vendas2019[i] - 1\n",
    "        print(f\"O produto '{produto}', vendeu em 2019 R$'{vendas2019[i]:,}',\\\n",
    " mas no ano de 2020 teve um aumento {prt:.2%} vendendo um total de R$'{vendas2020[i]:,}'\")"
   ]
  }
 ],
 "metadata": {
  "interpreter": {
   "hash": "ad2bdc8ecc057115af97d19610ffacc2b4e99fae6737bb82f5d7fb13d2f2c186"
  },
  "kernelspec": {
   "display_name": "Python 3.9.7",
   "language": "python",
   "name": "python3"
  },
  "language_info": {
   "codemirror_mode": {
    "name": "ipython",
    "version": 3
   },
   "file_extension": ".py",
   "mimetype": "text/x-python",
   "name": "python",
   "nbconvert_exporter": "python",
   "pygments_lexer": "ipython3",
   "version": "3.9.7"
  }
 },
 "nbformat": 4,
 "nbformat_minor": 4
}
