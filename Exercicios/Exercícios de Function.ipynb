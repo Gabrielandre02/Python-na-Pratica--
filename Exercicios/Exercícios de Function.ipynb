{
 "cells": [
  {
   "cell_type": "markdown",
   "metadata": {},
   "source": [
    "# Exercícios\n",
    "\n",
    "Para fazer um treino simples antes de avançarmos em mais functions, vamos criar uma function que resolve 1 \"desafio simples\"\n",
    "\n",
    "## 1. Function para Cálculo de Carga Tributária\n",
    "\n",
    "(Lembrando, não se atente ao funcionamento real da carga tributária, é apenas um exemplo imaginário para treinarmos as functions com algo mais prático)\n",
    "\n",
    "Imagine que você trabalha no setor contábil de uma grande empresa de Varejo. \n",
    "\n",
    "Crie uma function que calcule qual o % de carga tributária que está sendo aplicado sobre um determinado produto, dado o preço de venda, o \"lucro\" e os custos (com exceção do imposto) dele."
   ]
  },
  {
   "cell_type": "code",
   "execution_count": 2,
   "metadata": {},
   "outputs": [],
   "source": [
    "preco = 1500\n",
    "custo = 400\n",
    "lucro = 800"
   ]
  },
  {
   "cell_type": "markdown",
   "metadata": {},
   "source": [
    "Repare que preço - custo não é igual ao lucro, porque ainda foi descontado o imposto. Sua functiona deve calcular qual foi o % de imposto aplicado sobre o preço total."
   ]
  },
  {
   "cell_type": "code",
   "execution_count": 17,
   "metadata": {},
   "outputs": [
    {
     "name": "stdout",
     "output_type": "stream",
     "text": [
      "O Valor final de imposto em %: 97.1%\n",
      "Valor do produto: 1040030\n",
      "Custo do produto: 30301\n",
      "Lucro do produto: 300\n"
     ]
    }
   ],
   "source": [
    "#crie sua function aqui\n",
    "def cal_imposto(preco, custo, lucro):\n",
    "    imposto = preco - custo - lucro\n",
    "    return imposto / preco\n",
    "\n",
    "pr = int(input(\"Digite o preço: \"))\n",
    "cus = int(input(\"Digite o Custo do produto: \"))\n",
    "luc = int(input(\"Digite o lucro: \"))\n",
    "\n",
    "final = cal_imposto(pr, cus, luc)\n",
    "print(f\"O Valor final de imposto em %: {final:.1%}\", f\"Valor do produto: {pr}\", f\"Custo do produto: {cus}\", f\"Lucro do produto: {luc}\", sep=\"\\n\")"
   ]
  }
 ],
 "metadata": {
  "interpreter": {
   "hash": "ad2bdc8ecc057115af97d19610ffacc2b4e99fae6737bb82f5d7fb13d2f2c186"
  },
  "kernelspec": {
   "display_name": "Python 3.9.7",
   "language": "python",
   "name": "python3"
  },
  "language_info": {
   "codemirror_mode": {
    "name": "ipython",
    "version": 3
   },
   "file_extension": ".py",
   "mimetype": "text/x-python",
   "name": "python",
   "nbconvert_exporter": "python",
   "pygments_lexer": "ipython3",
   "version": "3.9.7"
  }
 },
 "nbformat": 4,
 "nbformat_minor": 4
}
