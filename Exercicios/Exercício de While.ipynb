{
 "cells": [
  {
   "cell_type": "markdown",
   "metadata": {},
   "source": [
    "# Exercícios\n",
    "\n",
    "## 1. Input até o usuário parar\n",
    "\n",
    "Vamos criar um sistema de vendas. Nosso programa deve registrar os produtos e as quantidades (2 inputs) e adicionar em uma lista.\n",
    "\n",
    "O programa deve continuar rodando até o input ser vazio, ou seja, o usuário apertar enter sem digitar nenhum produto ou quantidade.\n",
    "\n",
    "Ao final do programa, ele deve printar todos os produtos e quantidades vendidas.\n",
    "\n",
    "Obs: Caso queira, para o print ficar mais visual, pode usar o join para cada item ser printado em uma linha.\n",
    "Sugestão para sua lista de produtos vendidos:"
   ]
  },
  {
   "cell_type": "raw",
   "metadata": {},
   "source": [
    "vendas = [\n",
    "    ['maçã', 5],\n",
    "    ['banana', 15],\n",
    "    ['azeite', 1],\n",
    "    ['vinho', 3],\n",
    "]"
   ]
  },
  {
   "cell_type": "code",
   "execution_count": 22,
   "metadata": {},
   "outputs": [
    {
     "name": "stdout",
     "output_type": "stream",
     "text": [
      "Foi cadrastrado o  produto: \n",
      "arroz com uma quantidade total de 22\n"
     ]
    }
   ],
   "source": [
    "venda = []\n",
    "prd = input(\"Digite o nome do produto\")\n",
    "qtd = int(input(\"Digite a quantidade de produto\"))\n",
    "\n",
    "while prd != '':\n",
    "    venda.append([prd,qtd])\n",
    "    prd = input(\"Digite o nome do produto\")\n",
    "    qtd = input(\"Digite a quantidade de produto\")\n",
    "\n",
    "for vnd in venda:\n",
    "    print(f\"Foi cadrastrado o  produto: \\n{vnd[0]} com uma quantidade total de {vnd[1]}\")"
   ]
  },
  {
   "cell_type": "markdown",
   "metadata": {},
   "source": [
    "### Obs: Podemos fazer o While de 2 maneiras:\n",
    "\n",
    "1. While com a condição que finalize o programa\n",
    "2. While rodando para sempre, mas com uma condição dentro do while que dê um break no código.\n",
    "\n",
    "Vamos mostrar as 2 opções"
   ]
  },
  {
   "cell_type": "code",
   "execution_count": 20,
   "metadata": {},
   "outputs": [
    {
     "name": "stdout",
     "output_type": "stream",
     "text": [
      "Foi cadrastrado o  produto: \n",
      "arroz com uma  quantidade de total de 22\n"
     ]
    }
   ],
   "source": [
    "venda = []\n",
    "\n",
    "\n",
    "while True:\n",
    "    prd = input(\"Digite o nome do produto\")\n",
    "    if not prd:\n",
    "        break\n",
    "    qtd = input(\"Digite a quantidade de produto\")\n",
    "    venda.append([prd,qtd])\n",
    "    \n",
    "for vnd in venda:\n",
    "    print(f\"Foi cadrastrado o  produto: \\n{vnd[0]} com uma  quantidade de total de {vnd[1]}\")"
   ]
  }
 ],
 "metadata": {
  "interpreter": {
   "hash": "ad2bdc8ecc057115af97d19610ffacc2b4e99fae6737bb82f5d7fb13d2f2c186"
  },
  "kernelspec": {
   "display_name": "Python 3.9.7",
   "language": "python",
   "name": "python3"
  },
  "language_info": {
   "codemirror_mode": {
    "name": "ipython",
    "version": 3
   },
   "file_extension": ".py",
   "mimetype": "text/x-python",
   "name": "python",
   "nbconvert_exporter": "python",
   "pygments_lexer": "ipython3",
   "version": "3.9.7"
  }
 },
 "nbformat": 4,
 "nbformat_minor": 4
}
